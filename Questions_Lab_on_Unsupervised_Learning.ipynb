{
  "nbformat": 4,
  "nbformat_minor": 0,
  "metadata": {
    "colab": {
      "name": "Questions - Lab on Unsupervised Learning.ipynb",
      "provenance": [],
      "collapsed_sections": [],
      "include_colab_link": true
    },
    "kernelspec": {
      "display_name": "Python 2",
      "language": "python",
      "name": "python2"
    },
    "language_info": {
      "codemirror_mode": {
        "name": "ipython",
        "version": 2
      },
      "file_extension": ".py",
      "mimetype": "text/x-python",
      "name": "python",
      "nbconvert_exporter": "python",
      "pygments_lexer": "ipython2",
      "version": "2.7.14"
    }
  },
  "cells": [
    {
      "cell_type": "markdown",
      "metadata": {
        "id": "view-in-github",
        "colab_type": "text"
      },
      "source": [
        "<a href=\"https://colab.research.google.com/github/LathaKPAIML/AIML/blob/master/Questions_Lab_on_Unsupervised_Learning.ipynb\" target=\"_parent\"><img src=\"https://colab.research.google.com/assets/colab-badge.svg\" alt=\"Open In Colab\"/></a>"
      ]
    },
    {
      "cell_type": "code",
      "metadata": {
        "id": "1waXlt6iWCvh"
      },
      "source": [
        "#Import all the necessary modules\n",
        "#Import all the necessary modules\n",
        "import pandas as pd\n",
        "import numpy as np\n",
        "import os\n",
        "import seaborn as sns\n",
        "import matplotlib.pyplot as plt\n",
        "%matplotlib inline"
      ],
      "execution_count": null,
      "outputs": []
    },
    {
      "cell_type": "markdown",
      "metadata": {
        "id": "0zAbYvv-WCve"
      },
      "source": [
        "# Principal Component Analysis with Cancer Data"
      ]
    },
    {
      "cell_type": "markdown",
      "metadata": {
        "id": "6FZ90t1vWCvq"
      },
      "source": [
        "# Q1. Load the Data file ( Breast Cancer CSV) into Python DataFrame and view top 10 rows"
      ]
    },
    {
      "cell_type": "code",
      "metadata": {
        "id": "HdpptBPZSM4P",
        "colab": {
          "resources": {
            "http://localhost:8080/nbextensions/google.colab/files.js": {
              "data": "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",
              "ok": true,
              "headers": [
                [
                  "content-type",
                  "application/javascript"
                ]
              ],
              "status": 200,
              "status_text": ""
            }
          },
          "base_uri": "https://localhost:8080/",
          "height": 72
        },
        "outputId": "7319b69d-d990-4d30-d638-cca19df7aa1e"
      },
      "source": [
        "from google.colab import files\n",
        "uploaded = files.upload()"
      ],
      "execution_count": null,
      "outputs": [
        {
          "output_type": "display_data",
          "data": {
            "text/plain": [
              "<IPython.core.display.HTML object>"
            ],
            "text/html": [
              "\n",
              "     <input type=\"file\" id=\"files-5195f5de-6eaa-4a51-885e-c23242286ce5\" name=\"files[]\" multiple disabled\n",
              "        style=\"border:none\" />\n",
              "     <output id=\"result-5195f5de-6eaa-4a51-885e-c23242286ce5\">\n",
              "      Upload widget is only available when the cell has been executed in the\n",
              "      current browser session. Please rerun this cell to enable.\n",
              "      </output>\n",
              "      <script src=\"/nbextensions/google.colab/files.js\"></script> "
            ]
          },
          "metadata": {}
        },
        {
          "output_type": "stream",
          "name": "stdout",
          "text": [
            "Saving Cancer.csv to Cancer (1).csv\n"
          ]
        }
      ]
    },
    {
      "cell_type": "code",
      "metadata": {
        "id": "GJ9vF1Dgk2iP"
      },
      "source": [
        "import io\n",
        "import pandas as pd\n",
        "df2 = pd.read_csv(io.BytesIO(uploaded['Cancer.csv']))"
      ],
      "execution_count": null,
      "outputs": []
    },
    {
      "cell_type": "code",
      "metadata": {
        "colab": {
          "base_uri": "https://localhost:8080/"
        },
        "id": "z8zygL0DmulW",
        "outputId": "7cce3ff9-220a-41dd-c690-3791faf4df6e"
      },
      "source": [
        "df2.info"
      ],
      "execution_count": null,
      "outputs": [
        {
          "output_type": "execute_result",
          "data": {
            "text/plain": [
              "<bound method DataFrame.info of           ID  ClumpThickness  Cell Size  Cell Shape  Marginal Adhesion  \\\n",
              "0    1000025               5          1           1                  1   \n",
              "1    1002945               5          4           4                  5   \n",
              "2    1015425               3          1           1                  1   \n",
              "3    1016277               6          8           8                  1   \n",
              "4    1017023               4          1           1                  3   \n",
              "5    1017122               8         10          10                  8   \n",
              "6    1018099               1          1           1                  1   \n",
              "7    1018561               2          1           2                  1   \n",
              "8    1033078               2          1           1                  1   \n",
              "9    1033078               4          2           1                  1   \n",
              "10   1035283               1          1           1                  1   \n",
              "11   1036172               2          1           1                  1   \n",
              "12   1041801               5          3           3                  3   \n",
              "13   1043999               1          1           1                  1   \n",
              "14   1044572               8          7           5                 10   \n",
              "15   1047630               7          4           6                  4   \n",
              "16   1048672               4          1           1                  1   \n",
              "17   1049815               4          1           1                  1   \n",
              "18   1050670              10          7           7                  6   \n",
              "19   1050718               6          1           1                  1   \n",
              "20   1054590               7          3           2                 10   \n",
              "21   1054593              10          5           5                  3   \n",
              "22   1056784               3          1           1                  1   \n",
              "23   1057013               8          4           5                  1   \n",
              "24   1059552               1          1           1                  1   \n",
              "25   1065726               5          2           3                  4   \n",
              "26   1066373               3          2           1                  1   \n",
              "27   1066979               5          1           1                  1   \n",
              "28   1067444               2          1           1                  1   \n",
              "29   1070935               1          1           3                  1   \n",
              "..       ...             ...        ...         ...                ...   \n",
              "669  1350423               5         10          10                  8   \n",
              "670  1352848               3         10           7                  8   \n",
              "671  1353092               3          2           1                  2   \n",
              "672  1354840               2          1           1                  1   \n",
              "673  1354840               5          3           2                  1   \n",
              "674  1355260               1          1           1                  1   \n",
              "675  1365075               4          1           4                  1   \n",
              "676  1365328               1          1           2                  1   \n",
              "677  1368267               5          1           1                  1   \n",
              "678  1368273               1          1           1                  1   \n",
              "679  1368882               2          1           1                  1   \n",
              "680  1369821              10         10          10                 10   \n",
              "681  1371026               5         10          10                 10   \n",
              "682  1371920               5          1           1                  1   \n",
              "683   466906               1          1           1                  1   \n",
              "684   466906               1          1           1                  1   \n",
              "685   534555               1          1           1                  1   \n",
              "686   536708               1          1           1                  1   \n",
              "687   566346               3          1           1                  1   \n",
              "688   603148               4          1           1                  1   \n",
              "689   654546               1          1           1                  1   \n",
              "690   654546               1          1           1                  3   \n",
              "691   695091               5         10          10                  5   \n",
              "692   714039               3          1           1                  1   \n",
              "693   763235               3          1           1                  1   \n",
              "694   776715               3          1           1                  1   \n",
              "695   841769               2          1           1                  1   \n",
              "696   888820               5         10          10                  3   \n",
              "697   897471               4          8           6                  4   \n",
              "698   897471               4          8           8                  5   \n",
              "\n",
              "     Single Epithelial Cell Size Bare Nuclei  Normal Nucleoli  \\\n",
              "0                              2           1                3   \n",
              "1                              7          10                3   \n",
              "2                              2           2                3   \n",
              "3                              3           4                3   \n",
              "4                              2           1                3   \n",
              "5                              7          10                9   \n",
              "6                              2          10                3   \n",
              "7                              2           1                3   \n",
              "8                              2           1                1   \n",
              "9                              2           1                2   \n",
              "10                             1           1                3   \n",
              "11                             2           1                2   \n",
              "12                             2           3                4   \n",
              "13                             2           3                3   \n",
              "14                             7           9                5   \n",
              "15                             6           1                4   \n",
              "16                             2           1                2   \n",
              "17                             2           1                3   \n",
              "18                             4          10                4   \n",
              "19                             2           1                3   \n",
              "20                             5          10                5   \n",
              "21                             6           7                7   \n",
              "22                             2           1                2   \n",
              "23                             2           ?                7   \n",
              "24                             2           1                3   \n",
              "25                             2           7                3   \n",
              "26                             1           1                2   \n",
              "27                             2           1                2   \n",
              "28                             2           1                2   \n",
              "29                             2           1                1   \n",
              "..                           ...         ...              ...   \n",
              "669                            5           5                7   \n",
              "670                            5           8                7   \n",
              "671                            2           1                3   \n",
              "672                            2           1                3   \n",
              "673                            3           1                1   \n",
              "674                            2           1                2   \n",
              "675                            2           1                1   \n",
              "676                            2           1                2   \n",
              "677                            2           1                1   \n",
              "678                            2           1                1   \n",
              "679                            2           1                1   \n",
              "680                            5          10               10   \n",
              "681                            4          10                5   \n",
              "682                            2           1                3   \n",
              "683                            2           1                1   \n",
              "684                            2           1                1   \n",
              "685                            2           1                1   \n",
              "686                            2           1                1   \n",
              "687                            2           1                2   \n",
              "688                            2           1                1   \n",
              "689                            2           1                1   \n",
              "690                            2           1                1   \n",
              "691                            4           5                4   \n",
              "692                            2           1                1   \n",
              "693                            2           1                2   \n",
              "694                            3           2                1   \n",
              "695                            2           1                1   \n",
              "696                            7           3                8   \n",
              "697                            3           4               10   \n",
              "698                            4           5               10   \n",
              "\n",
              "     Bland Chromatin  Mitoses  Class  \n",
              "0                  1        1      2  \n",
              "1                  2        1      2  \n",
              "2                  1        1      2  \n",
              "3                  7        1      2  \n",
              "4                  1        1      2  \n",
              "5                  7        1      4  \n",
              "6                  1        1      2  \n",
              "7                  1        1      2  \n",
              "8                  1        5      2  \n",
              "9                  1        1      2  \n",
              "10                 1        1      2  \n",
              "11                 1        1      2  \n",
              "12                 4        1      4  \n",
              "13                 1        1      2  \n",
              "14                 5        4      4  \n",
              "15                 3        1      4  \n",
              "16                 1        1      2  \n",
              "17                 1        1      2  \n",
              "18                 1        2      4  \n",
              "19                 1        1      2  \n",
              "20                 4        4      4  \n",
              "21                10        1      4  \n",
              "22                 1        1      2  \n",
              "23                 3        1      4  \n",
              "24                 1        1      2  \n",
              "25                 6        1      4  \n",
              "26                 1        1      2  \n",
              "27                 1        1      2  \n",
              "28                 1        1      2  \n",
              "29                 1        1      2  \n",
              "..               ...      ...    ...  \n",
              "669               10        1      4  \n",
              "670                4        1      4  \n",
              "671                1        1      2  \n",
              "672                1        1      2  \n",
              "673                1        1      2  \n",
              "674                1        1      2  \n",
              "675                1        1      2  \n",
              "676                1        1      2  \n",
              "677                1        1      2  \n",
              "678                1        1      2  \n",
              "679                1        1      2  \n",
              "680               10        7      4  \n",
              "681                6        3      4  \n",
              "682                2        1      2  \n",
              "683                1        1      2  \n",
              "684                1        1      2  \n",
              "685                1        1      2  \n",
              "686                1        1      2  \n",
              "687                3        1      2  \n",
              "688                1        1      2  \n",
              "689                1        8      2  \n",
              "690                1        1      2  \n",
              "691                4        1      4  \n",
              "692                1        1      2  \n",
              "693                1        2      2  \n",
              "694                1        1      2  \n",
              "695                1        1      2  \n",
              "696               10        2      4  \n",
              "697                6        1      4  \n",
              "698                4        1      4  \n",
              "\n",
              "[699 rows x 11 columns]>"
            ]
          },
          "metadata": {},
          "execution_count": 95
        }
      ]
    },
    {
      "cell_type": "code",
      "metadata": {
        "colab": {
          "base_uri": "https://localhost:8080/"
        },
        "id": "wsmwaqgumywU",
        "outputId": "c7def9f6-e676-47ea-a7a5-04e7ed30d32e"
      },
      "source": [
        "df2.describe"
      ],
      "execution_count": null,
      "outputs": [
        {
          "output_type": "execute_result",
          "data": {
            "text/plain": [
              "<bound method DataFrame.describe of           ID  ClumpThickness  Cell Size  Cell Shape  Marginal Adhesion  \\\n",
              "0    1000025               5          1           1                  1   \n",
              "1    1002945               5          4           4                  5   \n",
              "2    1015425               3          1           1                  1   \n",
              "3    1016277               6          8           8                  1   \n",
              "4    1017023               4          1           1                  3   \n",
              "5    1017122               8         10          10                  8   \n",
              "6    1018099               1          1           1                  1   \n",
              "7    1018561               2          1           2                  1   \n",
              "8    1033078               2          1           1                  1   \n",
              "9    1033078               4          2           1                  1   \n",
              "10   1035283               1          1           1                  1   \n",
              "11   1036172               2          1           1                  1   \n",
              "12   1041801               5          3           3                  3   \n",
              "13   1043999               1          1           1                  1   \n",
              "14   1044572               8          7           5                 10   \n",
              "15   1047630               7          4           6                  4   \n",
              "16   1048672               4          1           1                  1   \n",
              "17   1049815               4          1           1                  1   \n",
              "18   1050670              10          7           7                  6   \n",
              "19   1050718               6          1           1                  1   \n",
              "20   1054590               7          3           2                 10   \n",
              "21   1054593              10          5           5                  3   \n",
              "22   1056784               3          1           1                  1   \n",
              "23   1057013               8          4           5                  1   \n",
              "24   1059552               1          1           1                  1   \n",
              "25   1065726               5          2           3                  4   \n",
              "26   1066373               3          2           1                  1   \n",
              "27   1066979               5          1           1                  1   \n",
              "28   1067444               2          1           1                  1   \n",
              "29   1070935               1          1           3                  1   \n",
              "..       ...             ...        ...         ...                ...   \n",
              "669  1350423               5         10          10                  8   \n",
              "670  1352848               3         10           7                  8   \n",
              "671  1353092               3          2           1                  2   \n",
              "672  1354840               2          1           1                  1   \n",
              "673  1354840               5          3           2                  1   \n",
              "674  1355260               1          1           1                  1   \n",
              "675  1365075               4          1           4                  1   \n",
              "676  1365328               1          1           2                  1   \n",
              "677  1368267               5          1           1                  1   \n",
              "678  1368273               1          1           1                  1   \n",
              "679  1368882               2          1           1                  1   \n",
              "680  1369821              10         10          10                 10   \n",
              "681  1371026               5         10          10                 10   \n",
              "682  1371920               5          1           1                  1   \n",
              "683   466906               1          1           1                  1   \n",
              "684   466906               1          1           1                  1   \n",
              "685   534555               1          1           1                  1   \n",
              "686   536708               1          1           1                  1   \n",
              "687   566346               3          1           1                  1   \n",
              "688   603148               4          1           1                  1   \n",
              "689   654546               1          1           1                  1   \n",
              "690   654546               1          1           1                  3   \n",
              "691   695091               5         10          10                  5   \n",
              "692   714039               3          1           1                  1   \n",
              "693   763235               3          1           1                  1   \n",
              "694   776715               3          1           1                  1   \n",
              "695   841769               2          1           1                  1   \n",
              "696   888820               5         10          10                  3   \n",
              "697   897471               4          8           6                  4   \n",
              "698   897471               4          8           8                  5   \n",
              "\n",
              "     Single Epithelial Cell Size Bare Nuclei  Normal Nucleoli  \\\n",
              "0                              2           1                3   \n",
              "1                              7          10                3   \n",
              "2                              2           2                3   \n",
              "3                              3           4                3   \n",
              "4                              2           1                3   \n",
              "5                              7          10                9   \n",
              "6                              2          10                3   \n",
              "7                              2           1                3   \n",
              "8                              2           1                1   \n",
              "9                              2           1                2   \n",
              "10                             1           1                3   \n",
              "11                             2           1                2   \n",
              "12                             2           3                4   \n",
              "13                             2           3                3   \n",
              "14                             7           9                5   \n",
              "15                             6           1                4   \n",
              "16                             2           1                2   \n",
              "17                             2           1                3   \n",
              "18                             4          10                4   \n",
              "19                             2           1                3   \n",
              "20                             5          10                5   \n",
              "21                             6           7                7   \n",
              "22                             2           1                2   \n",
              "23                             2           ?                7   \n",
              "24                             2           1                3   \n",
              "25                             2           7                3   \n",
              "26                             1           1                2   \n",
              "27                             2           1                2   \n",
              "28                             2           1                2   \n",
              "29                             2           1                1   \n",
              "..                           ...         ...              ...   \n",
              "669                            5           5                7   \n",
              "670                            5           8                7   \n",
              "671                            2           1                3   \n",
              "672                            2           1                3   \n",
              "673                            3           1                1   \n",
              "674                            2           1                2   \n",
              "675                            2           1                1   \n",
              "676                            2           1                2   \n",
              "677                            2           1                1   \n",
              "678                            2           1                1   \n",
              "679                            2           1                1   \n",
              "680                            5          10               10   \n",
              "681                            4          10                5   \n",
              "682                            2           1                3   \n",
              "683                            2           1                1   \n",
              "684                            2           1                1   \n",
              "685                            2           1                1   \n",
              "686                            2           1                1   \n",
              "687                            2           1                2   \n",
              "688                            2           1                1   \n",
              "689                            2           1                1   \n",
              "690                            2           1                1   \n",
              "691                            4           5                4   \n",
              "692                            2           1                1   \n",
              "693                            2           1                2   \n",
              "694                            3           2                1   \n",
              "695                            2           1                1   \n",
              "696                            7           3                8   \n",
              "697                            3           4               10   \n",
              "698                            4           5               10   \n",
              "\n",
              "     Bland Chromatin  Mitoses  Class  \n",
              "0                  1        1      2  \n",
              "1                  2        1      2  \n",
              "2                  1        1      2  \n",
              "3                  7        1      2  \n",
              "4                  1        1      2  \n",
              "5                  7        1      4  \n",
              "6                  1        1      2  \n",
              "7                  1        1      2  \n",
              "8                  1        5      2  \n",
              "9                  1        1      2  \n",
              "10                 1        1      2  \n",
              "11                 1        1      2  \n",
              "12                 4        1      4  \n",
              "13                 1        1      2  \n",
              "14                 5        4      4  \n",
              "15                 3        1      4  \n",
              "16                 1        1      2  \n",
              "17                 1        1      2  \n",
              "18                 1        2      4  \n",
              "19                 1        1      2  \n",
              "20                 4        4      4  \n",
              "21                10        1      4  \n",
              "22                 1        1      2  \n",
              "23                 3        1      4  \n",
              "24                 1        1      2  \n",
              "25                 6        1      4  \n",
              "26                 1        1      2  \n",
              "27                 1        1      2  \n",
              "28                 1        1      2  \n",
              "29                 1        1      2  \n",
              "..               ...      ...    ...  \n",
              "669               10        1      4  \n",
              "670                4        1      4  \n",
              "671                1        1      2  \n",
              "672                1        1      2  \n",
              "673                1        1      2  \n",
              "674                1        1      2  \n",
              "675                1        1      2  \n",
              "676                1        1      2  \n",
              "677                1        1      2  \n",
              "678                1        1      2  \n",
              "679                1        1      2  \n",
              "680               10        7      4  \n",
              "681                6        3      4  \n",
              "682                2        1      2  \n",
              "683                1        1      2  \n",
              "684                1        1      2  \n",
              "685                1        1      2  \n",
              "686                1        1      2  \n",
              "687                3        1      2  \n",
              "688                1        1      2  \n",
              "689                1        8      2  \n",
              "690                1        1      2  \n",
              "691                4        1      4  \n",
              "692                1        1      2  \n",
              "693                1        2      2  \n",
              "694                1        1      2  \n",
              "695                1        1      2  \n",
              "696               10        2      4  \n",
              "697                6        1      4  \n",
              "698                4        1      4  \n",
              "\n",
              "[699 rows x 11 columns]>"
            ]
          },
          "metadata": {},
          "execution_count": 96
        }
      ]
    },
    {
      "cell_type": "code",
      "metadata": {
        "colab": {
          "base_uri": "https://localhost:8080/"
        },
        "id": "A0qSzHGfm6c_",
        "outputId": "b076eca4-0b9a-4722-9c8c-605047742439"
      },
      "source": [
        "df2.shape"
      ],
      "execution_count": null,
      "outputs": [
        {
          "output_type": "execute_result",
          "data": {
            "text/plain": [
              "(699, 11)"
            ]
          },
          "metadata": {},
          "execution_count": 97
        }
      ]
    },
    {
      "cell_type": "code",
      "metadata": {
        "colab": {
          "base_uri": "https://localhost:8080/",
          "height": 355
        },
        "id": "wX_ihFYJm_U7",
        "outputId": "1830704e-d4af-4693-f27d-9dbfb102b508"
      },
      "source": [
        "df2.head(10)"
      ],
      "execution_count": null,
      "outputs": [
        {
          "output_type": "execute_result",
          "data": {
            "text/plain": [
              "        ID  ClumpThickness  Cell Size  Cell Shape  Marginal Adhesion  \\\n",
              "0  1000025               5          1           1                  1   \n",
              "1  1002945               5          4           4                  5   \n",
              "2  1015425               3          1           1                  1   \n",
              "3  1016277               6          8           8                  1   \n",
              "4  1017023               4          1           1                  3   \n",
              "5  1017122               8         10          10                  8   \n",
              "6  1018099               1          1           1                  1   \n",
              "7  1018561               2          1           2                  1   \n",
              "8  1033078               2          1           1                  1   \n",
              "9  1033078               4          2           1                  1   \n",
              "\n",
              "   Single Epithelial Cell Size Bare Nuclei  Normal Nucleoli  Bland Chromatin  \\\n",
              "0                            2           1                3                1   \n",
              "1                            7          10                3                2   \n",
              "2                            2           2                3                1   \n",
              "3                            3           4                3                7   \n",
              "4                            2           1                3                1   \n",
              "5                            7          10                9                7   \n",
              "6                            2          10                3                1   \n",
              "7                            2           1                3                1   \n",
              "8                            2           1                1                1   \n",
              "9                            2           1                2                1   \n",
              "\n",
              "   Mitoses  Class  \n",
              "0        1      2  \n",
              "1        1      2  \n",
              "2        1      2  \n",
              "3        1      2  \n",
              "4        1      2  \n",
              "5        1      4  \n",
              "6        1      2  \n",
              "7        1      2  \n",
              "8        5      2  \n",
              "9        1      2  "
            ],
            "text/html": [
              "<div>\n",
              "<style scoped>\n",
              "    .dataframe tbody tr th:only-of-type {\n",
              "        vertical-align: middle;\n",
              "    }\n",
              "\n",
              "    .dataframe tbody tr th {\n",
              "        vertical-align: top;\n",
              "    }\n",
              "\n",
              "    .dataframe thead th {\n",
              "        text-align: right;\n",
              "    }\n",
              "</style>\n",
              "<table border=\"1\" class=\"dataframe\">\n",
              "  <thead>\n",
              "    <tr style=\"text-align: right;\">\n",
              "      <th></th>\n",
              "      <th>ID</th>\n",
              "      <th>ClumpThickness</th>\n",
              "      <th>Cell Size</th>\n",
              "      <th>Cell Shape</th>\n",
              "      <th>Marginal Adhesion</th>\n",
              "      <th>Single Epithelial Cell Size</th>\n",
              "      <th>Bare Nuclei</th>\n",
              "      <th>Normal Nucleoli</th>\n",
              "      <th>Bland Chromatin</th>\n",
              "      <th>Mitoses</th>\n",
              "      <th>Class</th>\n",
              "    </tr>\n",
              "  </thead>\n",
              "  <tbody>\n",
              "    <tr>\n",
              "      <th>0</th>\n",
              "      <td>1000025</td>\n",
              "      <td>5</td>\n",
              "      <td>1</td>\n",
              "      <td>1</td>\n",
              "      <td>1</td>\n",
              "      <td>2</td>\n",
              "      <td>1</td>\n",
              "      <td>3</td>\n",
              "      <td>1</td>\n",
              "      <td>1</td>\n",
              "      <td>2</td>\n",
              "    </tr>\n",
              "    <tr>\n",
              "      <th>1</th>\n",
              "      <td>1002945</td>\n",
              "      <td>5</td>\n",
              "      <td>4</td>\n",
              "      <td>4</td>\n",
              "      <td>5</td>\n",
              "      <td>7</td>\n",
              "      <td>10</td>\n",
              "      <td>3</td>\n",
              "      <td>2</td>\n",
              "      <td>1</td>\n",
              "      <td>2</td>\n",
              "    </tr>\n",
              "    <tr>\n",
              "      <th>2</th>\n",
              "      <td>1015425</td>\n",
              "      <td>3</td>\n",
              "      <td>1</td>\n",
              "      <td>1</td>\n",
              "      <td>1</td>\n",
              "      <td>2</td>\n",
              "      <td>2</td>\n",
              "      <td>3</td>\n",
              "      <td>1</td>\n",
              "      <td>1</td>\n",
              "      <td>2</td>\n",
              "    </tr>\n",
              "    <tr>\n",
              "      <th>3</th>\n",
              "      <td>1016277</td>\n",
              "      <td>6</td>\n",
              "      <td>8</td>\n",
              "      <td>8</td>\n",
              "      <td>1</td>\n",
              "      <td>3</td>\n",
              "      <td>4</td>\n",
              "      <td>3</td>\n",
              "      <td>7</td>\n",
              "      <td>1</td>\n",
              "      <td>2</td>\n",
              "    </tr>\n",
              "    <tr>\n",
              "      <th>4</th>\n",
              "      <td>1017023</td>\n",
              "      <td>4</td>\n",
              "      <td>1</td>\n",
              "      <td>1</td>\n",
              "      <td>3</td>\n",
              "      <td>2</td>\n",
              "      <td>1</td>\n",
              "      <td>3</td>\n",
              "      <td>1</td>\n",
              "      <td>1</td>\n",
              "      <td>2</td>\n",
              "    </tr>\n",
              "    <tr>\n",
              "      <th>5</th>\n",
              "      <td>1017122</td>\n",
              "      <td>8</td>\n",
              "      <td>10</td>\n",
              "      <td>10</td>\n",
              "      <td>8</td>\n",
              "      <td>7</td>\n",
              "      <td>10</td>\n",
              "      <td>9</td>\n",
              "      <td>7</td>\n",
              "      <td>1</td>\n",
              "      <td>4</td>\n",
              "    </tr>\n",
              "    <tr>\n",
              "      <th>6</th>\n",
              "      <td>1018099</td>\n",
              "      <td>1</td>\n",
              "      <td>1</td>\n",
              "      <td>1</td>\n",
              "      <td>1</td>\n",
              "      <td>2</td>\n",
              "      <td>10</td>\n",
              "      <td>3</td>\n",
              "      <td>1</td>\n",
              "      <td>1</td>\n",
              "      <td>2</td>\n",
              "    </tr>\n",
              "    <tr>\n",
              "      <th>7</th>\n",
              "      <td>1018561</td>\n",
              "      <td>2</td>\n",
              "      <td>1</td>\n",
              "      <td>2</td>\n",
              "      <td>1</td>\n",
              "      <td>2</td>\n",
              "      <td>1</td>\n",
              "      <td>3</td>\n",
              "      <td>1</td>\n",
              "      <td>1</td>\n",
              "      <td>2</td>\n",
              "    </tr>\n",
              "    <tr>\n",
              "      <th>8</th>\n",
              "      <td>1033078</td>\n",
              "      <td>2</td>\n",
              "      <td>1</td>\n",
              "      <td>1</td>\n",
              "      <td>1</td>\n",
              "      <td>2</td>\n",
              "      <td>1</td>\n",
              "      <td>1</td>\n",
              "      <td>1</td>\n",
              "      <td>5</td>\n",
              "      <td>2</td>\n",
              "    </tr>\n",
              "    <tr>\n",
              "      <th>9</th>\n",
              "      <td>1033078</td>\n",
              "      <td>4</td>\n",
              "      <td>2</td>\n",
              "      <td>1</td>\n",
              "      <td>1</td>\n",
              "      <td>2</td>\n",
              "      <td>1</td>\n",
              "      <td>2</td>\n",
              "      <td>1</td>\n",
              "      <td>1</td>\n",
              "      <td>2</td>\n",
              "    </tr>\n",
              "  </tbody>\n",
              "</table>\n",
              "</div>"
            ]
          },
          "metadata": {},
          "execution_count": 98
        }
      ]
    },
    {
      "cell_type": "code",
      "metadata": {
        "colab": {
          "base_uri": "https://localhost:8080/",
          "height": 355
        },
        "id": "SV56-RmenDmM",
        "outputId": "bb09f86b-3f64-4ae3-d090-2582be11469a"
      },
      "source": [
        "df2.tail(10)"
      ],
      "execution_count": null,
      "outputs": [
        {
          "output_type": "execute_result",
          "data": {
            "text/plain": [
              "         ID  ClumpThickness  Cell Size  Cell Shape  Marginal Adhesion  \\\n",
              "689  654546               1          1           1                  1   \n",
              "690  654546               1          1           1                  3   \n",
              "691  695091               5         10          10                  5   \n",
              "692  714039               3          1           1                  1   \n",
              "693  763235               3          1           1                  1   \n",
              "694  776715               3          1           1                  1   \n",
              "695  841769               2          1           1                  1   \n",
              "696  888820               5         10          10                  3   \n",
              "697  897471               4          8           6                  4   \n",
              "698  897471               4          8           8                  5   \n",
              "\n",
              "     Single Epithelial Cell Size Bare Nuclei  Normal Nucleoli  \\\n",
              "689                            2           1                1   \n",
              "690                            2           1                1   \n",
              "691                            4           5                4   \n",
              "692                            2           1                1   \n",
              "693                            2           1                2   \n",
              "694                            3           2                1   \n",
              "695                            2           1                1   \n",
              "696                            7           3                8   \n",
              "697                            3           4               10   \n",
              "698                            4           5               10   \n",
              "\n",
              "     Bland Chromatin  Mitoses  Class  \n",
              "689                1        8      2  \n",
              "690                1        1      2  \n",
              "691                4        1      4  \n",
              "692                1        1      2  \n",
              "693                1        2      2  \n",
              "694                1        1      2  \n",
              "695                1        1      2  \n",
              "696               10        2      4  \n",
              "697                6        1      4  \n",
              "698                4        1      4  "
            ],
            "text/html": [
              "<div>\n",
              "<style scoped>\n",
              "    .dataframe tbody tr th:only-of-type {\n",
              "        vertical-align: middle;\n",
              "    }\n",
              "\n",
              "    .dataframe tbody tr th {\n",
              "        vertical-align: top;\n",
              "    }\n",
              "\n",
              "    .dataframe thead th {\n",
              "        text-align: right;\n",
              "    }\n",
              "</style>\n",
              "<table border=\"1\" class=\"dataframe\">\n",
              "  <thead>\n",
              "    <tr style=\"text-align: right;\">\n",
              "      <th></th>\n",
              "      <th>ID</th>\n",
              "      <th>ClumpThickness</th>\n",
              "      <th>Cell Size</th>\n",
              "      <th>Cell Shape</th>\n",
              "      <th>Marginal Adhesion</th>\n",
              "      <th>Single Epithelial Cell Size</th>\n",
              "      <th>Bare Nuclei</th>\n",
              "      <th>Normal Nucleoli</th>\n",
              "      <th>Bland Chromatin</th>\n",
              "      <th>Mitoses</th>\n",
              "      <th>Class</th>\n",
              "    </tr>\n",
              "  </thead>\n",
              "  <tbody>\n",
              "    <tr>\n",
              "      <th>689</th>\n",
              "      <td>654546</td>\n",
              "      <td>1</td>\n",
              "      <td>1</td>\n",
              "      <td>1</td>\n",
              "      <td>1</td>\n",
              "      <td>2</td>\n",
              "      <td>1</td>\n",
              "      <td>1</td>\n",
              "      <td>1</td>\n",
              "      <td>8</td>\n",
              "      <td>2</td>\n",
              "    </tr>\n",
              "    <tr>\n",
              "      <th>690</th>\n",
              "      <td>654546</td>\n",
              "      <td>1</td>\n",
              "      <td>1</td>\n",
              "      <td>1</td>\n",
              "      <td>3</td>\n",
              "      <td>2</td>\n",
              "      <td>1</td>\n",
              "      <td>1</td>\n",
              "      <td>1</td>\n",
              "      <td>1</td>\n",
              "      <td>2</td>\n",
              "    </tr>\n",
              "    <tr>\n",
              "      <th>691</th>\n",
              "      <td>695091</td>\n",
              "      <td>5</td>\n",
              "      <td>10</td>\n",
              "      <td>10</td>\n",
              "      <td>5</td>\n",
              "      <td>4</td>\n",
              "      <td>5</td>\n",
              "      <td>4</td>\n",
              "      <td>4</td>\n",
              "      <td>1</td>\n",
              "      <td>4</td>\n",
              "    </tr>\n",
              "    <tr>\n",
              "      <th>692</th>\n",
              "      <td>714039</td>\n",
              "      <td>3</td>\n",
              "      <td>1</td>\n",
              "      <td>1</td>\n",
              "      <td>1</td>\n",
              "      <td>2</td>\n",
              "      <td>1</td>\n",
              "      <td>1</td>\n",
              "      <td>1</td>\n",
              "      <td>1</td>\n",
              "      <td>2</td>\n",
              "    </tr>\n",
              "    <tr>\n",
              "      <th>693</th>\n",
              "      <td>763235</td>\n",
              "      <td>3</td>\n",
              "      <td>1</td>\n",
              "      <td>1</td>\n",
              "      <td>1</td>\n",
              "      <td>2</td>\n",
              "      <td>1</td>\n",
              "      <td>2</td>\n",
              "      <td>1</td>\n",
              "      <td>2</td>\n",
              "      <td>2</td>\n",
              "    </tr>\n",
              "    <tr>\n",
              "      <th>694</th>\n",
              "      <td>776715</td>\n",
              "      <td>3</td>\n",
              "      <td>1</td>\n",
              "      <td>1</td>\n",
              "      <td>1</td>\n",
              "      <td>3</td>\n",
              "      <td>2</td>\n",
              "      <td>1</td>\n",
              "      <td>1</td>\n",
              "      <td>1</td>\n",
              "      <td>2</td>\n",
              "    </tr>\n",
              "    <tr>\n",
              "      <th>695</th>\n",
              "      <td>841769</td>\n",
              "      <td>2</td>\n",
              "      <td>1</td>\n",
              "      <td>1</td>\n",
              "      <td>1</td>\n",
              "      <td>2</td>\n",
              "      <td>1</td>\n",
              "      <td>1</td>\n",
              "      <td>1</td>\n",
              "      <td>1</td>\n",
              "      <td>2</td>\n",
              "    </tr>\n",
              "    <tr>\n",
              "      <th>696</th>\n",
              "      <td>888820</td>\n",
              "      <td>5</td>\n",
              "      <td>10</td>\n",
              "      <td>10</td>\n",
              "      <td>3</td>\n",
              "      <td>7</td>\n",
              "      <td>3</td>\n",
              "      <td>8</td>\n",
              "      <td>10</td>\n",
              "      <td>2</td>\n",
              "      <td>4</td>\n",
              "    </tr>\n",
              "    <tr>\n",
              "      <th>697</th>\n",
              "      <td>897471</td>\n",
              "      <td>4</td>\n",
              "      <td>8</td>\n",
              "      <td>6</td>\n",
              "      <td>4</td>\n",
              "      <td>3</td>\n",
              "      <td>4</td>\n",
              "      <td>10</td>\n",
              "      <td>6</td>\n",
              "      <td>1</td>\n",
              "      <td>4</td>\n",
              "    </tr>\n",
              "    <tr>\n",
              "      <th>698</th>\n",
              "      <td>897471</td>\n",
              "      <td>4</td>\n",
              "      <td>8</td>\n",
              "      <td>8</td>\n",
              "      <td>5</td>\n",
              "      <td>4</td>\n",
              "      <td>5</td>\n",
              "      <td>10</td>\n",
              "      <td>4</td>\n",
              "      <td>1</td>\n",
              "      <td>4</td>\n",
              "    </tr>\n",
              "  </tbody>\n",
              "</table>\n",
              "</div>"
            ]
          },
          "metadata": {},
          "execution_count": 99
        }
      ]
    },
    {
      "cell_type": "code",
      "metadata": {
        "colab": {
          "base_uri": "https://localhost:8080/"
        },
        "id": "nnQSp2Mdq7r5",
        "outputId": "779962d6-bfba-4733-d101-d2aa566f3087"
      },
      "source": [
        "# Dimention of dataset\n",
        "print(\"Dataset is of \", df2.ndim, \" dimension.\")"
      ],
      "execution_count": null,
      "outputs": [
        {
          "output_type": "stream",
          "name": "stdout",
          "text": [
            "('Dataset is of ', 2, ' dimension.')\n"
          ]
        }
      ]
    },
    {
      "cell_type": "code",
      "metadata": {
        "colab": {
          "base_uri": "https://localhost:8080/"
        },
        "id": "5EVCslxwrKes",
        "outputId": "91237f97-7be3-4ab0-dc07-38c952c2a8de"
      },
      "source": [
        "# Rows and column of dataset\n",
        "print(\"Dataset has \", df2.shape[0], \" rows.\",\"and \" \"Dataset has \", df2.shape[1], \" columns.\")"
      ],
      "execution_count": null,
      "outputs": [
        {
          "output_type": "stream",
          "name": "stdout",
          "text": [
            "('Dataset has ', 699, ' rows.', 'and Dataset has ', 11, ' columns.')\n"
          ]
        }
      ]
    },
    {
      "cell_type": "code",
      "metadata": {
        "colab": {
          "base_uri": "https://localhost:8080/"
        },
        "id": "OR99bw0QrmPs",
        "outputId": "f9376933-c139-48ae-9073-f67f46807afb"
      },
      "source": [
        "#Knowing the data Types of the columns\n",
        "print(\"Data Types :\")\n",
        "print(df2.dtypes)"
      ],
      "execution_count": null,
      "outputs": [
        {
          "output_type": "stream",
          "name": "stdout",
          "text": [
            "Data Types :\n",
            "ID                              int64\n",
            "ClumpThickness                  int64\n",
            "Cell Size                       int64\n",
            "Cell Shape                      int64\n",
            "Marginal Adhesion               int64\n",
            "Single Epithelial Cell Size     int64\n",
            "Bare Nuclei                    object\n",
            "Normal Nucleoli                 int64\n",
            "Bland Chromatin                 int64\n",
            "Mitoses                         int64\n",
            "Class                           int64\n",
            "dtype: object\n"
          ]
        }
      ]
    },
    {
      "cell_type": "code",
      "metadata": {
        "colab": {
          "base_uri": "https://localhost:8080/"
        },
        "id": "a5gnHP3Lr4O6",
        "outputId": "cc1fcccc-91e9-448b-e588-9aacaf766263"
      },
      "source": [
        "df2.shape"
      ],
      "execution_count": null,
      "outputs": [
        {
          "output_type": "execute_result",
          "data": {
            "text/plain": [
              "(699, 11)"
            ]
          },
          "metadata": {},
          "execution_count": 103
        }
      ]
    },
    {
      "cell_type": "code",
      "metadata": {
        "colab": {
          "base_uri": "https://localhost:8080/"
        },
        "id": "p1G9NR97r-14",
        "outputId": "3afd4dfc-2a13-4bd4-af15-53003867d920"
      },
      "source": [
        "df2.info()"
      ],
      "execution_count": null,
      "outputs": [
        {
          "output_type": "stream",
          "name": "stdout",
          "text": [
            "<class 'pandas.core.frame.DataFrame'>\n",
            "RangeIndex: 699 entries, 0 to 698\n",
            "Data columns (total 11 columns):\n",
            "ID                             699 non-null int64\n",
            "ClumpThickness                 699 non-null int64\n",
            "Cell Size                      699 non-null int64\n",
            "Cell Shape                     699 non-null int64\n",
            "Marginal Adhesion              699 non-null int64\n",
            "Single Epithelial Cell Size    699 non-null int64\n",
            "Bare Nuclei                    699 non-null object\n",
            "Normal Nucleoli                699 non-null int64\n",
            "Bland Chromatin                699 non-null int64\n",
            "Mitoses                        699 non-null int64\n",
            "Class                          699 non-null int64\n",
            "dtypes: int64(10), object(1)\n",
            "memory usage: 60.1+ KB\n"
          ]
        }
      ]
    },
    {
      "cell_type": "code",
      "metadata": {
        "colab": {
          "base_uri": "https://localhost:8080/",
          "height": 294
        },
        "id": "j89QtrMes4Nc",
        "outputId": "9dc658f1-d65d-4102-81c7-b74349d8d943"
      },
      "source": [
        "df2.describe()"
      ],
      "execution_count": null,
      "outputs": [
        {
          "output_type": "execute_result",
          "data": {
            "text/plain": [
              "                 ID  ClumpThickness   Cell Size  Cell Shape  \\\n",
              "count  6.990000e+02      699.000000  699.000000  699.000000   \n",
              "mean   1.071704e+06        4.417740    3.134478    3.207439   \n",
              "std    6.170957e+05        2.815741    3.051459    2.971913   \n",
              "min    6.163400e+04        1.000000    1.000000    1.000000   \n",
              "25%    8.706885e+05        2.000000    1.000000    1.000000   \n",
              "50%    1.171710e+06        4.000000    1.000000    1.000000   \n",
              "75%    1.238298e+06        6.000000    5.000000    5.000000   \n",
              "max    1.345435e+07       10.000000   10.000000   10.000000   \n",
              "\n",
              "       Marginal Adhesion  Single Epithelial Cell Size  Normal Nucleoli  \\\n",
              "count         699.000000                   699.000000       699.000000   \n",
              "mean            2.806867                     3.216023         3.437768   \n",
              "std             2.855379                     2.214300         2.438364   \n",
              "min             1.000000                     1.000000         1.000000   \n",
              "25%             1.000000                     2.000000         2.000000   \n",
              "50%             1.000000                     2.000000         3.000000   \n",
              "75%             4.000000                     4.000000         5.000000   \n",
              "max            10.000000                    10.000000        10.000000   \n",
              "\n",
              "       Bland Chromatin     Mitoses       Class  \n",
              "count       699.000000  699.000000  699.000000  \n",
              "mean          2.866953    1.589413    2.689557  \n",
              "std           3.053634    1.715078    0.951273  \n",
              "min           1.000000    1.000000    2.000000  \n",
              "25%           1.000000    1.000000    2.000000  \n",
              "50%           1.000000    1.000000    2.000000  \n",
              "75%           4.000000    1.000000    4.000000  \n",
              "max          10.000000   10.000000    4.000000  "
            ],
            "text/html": [
              "<div>\n",
              "<style scoped>\n",
              "    .dataframe tbody tr th:only-of-type {\n",
              "        vertical-align: middle;\n",
              "    }\n",
              "\n",
              "    .dataframe tbody tr th {\n",
              "        vertical-align: top;\n",
              "    }\n",
              "\n",
              "    .dataframe thead th {\n",
              "        text-align: right;\n",
              "    }\n",
              "</style>\n",
              "<table border=\"1\" class=\"dataframe\">\n",
              "  <thead>\n",
              "    <tr style=\"text-align: right;\">\n",
              "      <th></th>\n",
              "      <th>ID</th>\n",
              "      <th>ClumpThickness</th>\n",
              "      <th>Cell Size</th>\n",
              "      <th>Cell Shape</th>\n",
              "      <th>Marginal Adhesion</th>\n",
              "      <th>Single Epithelial Cell Size</th>\n",
              "      <th>Normal Nucleoli</th>\n",
              "      <th>Bland Chromatin</th>\n",
              "      <th>Mitoses</th>\n",
              "      <th>Class</th>\n",
              "    </tr>\n",
              "  </thead>\n",
              "  <tbody>\n",
              "    <tr>\n",
              "      <th>count</th>\n",
              "      <td>6.990000e+02</td>\n",
              "      <td>699.000000</td>\n",
              "      <td>699.000000</td>\n",
              "      <td>699.000000</td>\n",
              "      <td>699.000000</td>\n",
              "      <td>699.000000</td>\n",
              "      <td>699.000000</td>\n",
              "      <td>699.000000</td>\n",
              "      <td>699.000000</td>\n",
              "      <td>699.000000</td>\n",
              "    </tr>\n",
              "    <tr>\n",
              "      <th>mean</th>\n",
              "      <td>1.071704e+06</td>\n",
              "      <td>4.417740</td>\n",
              "      <td>3.134478</td>\n",
              "      <td>3.207439</td>\n",
              "      <td>2.806867</td>\n",
              "      <td>3.216023</td>\n",
              "      <td>3.437768</td>\n",
              "      <td>2.866953</td>\n",
              "      <td>1.589413</td>\n",
              "      <td>2.689557</td>\n",
              "    </tr>\n",
              "    <tr>\n",
              "      <th>std</th>\n",
              "      <td>6.170957e+05</td>\n",
              "      <td>2.815741</td>\n",
              "      <td>3.051459</td>\n",
              "      <td>2.971913</td>\n",
              "      <td>2.855379</td>\n",
              "      <td>2.214300</td>\n",
              "      <td>2.438364</td>\n",
              "      <td>3.053634</td>\n",
              "      <td>1.715078</td>\n",
              "      <td>0.951273</td>\n",
              "    </tr>\n",
              "    <tr>\n",
              "      <th>min</th>\n",
              "      <td>6.163400e+04</td>\n",
              "      <td>1.000000</td>\n",
              "      <td>1.000000</td>\n",
              "      <td>1.000000</td>\n",
              "      <td>1.000000</td>\n",
              "      <td>1.000000</td>\n",
              "      <td>1.000000</td>\n",
              "      <td>1.000000</td>\n",
              "      <td>1.000000</td>\n",
              "      <td>2.000000</td>\n",
              "    </tr>\n",
              "    <tr>\n",
              "      <th>25%</th>\n",
              "      <td>8.706885e+05</td>\n",
              "      <td>2.000000</td>\n",
              "      <td>1.000000</td>\n",
              "      <td>1.000000</td>\n",
              "      <td>1.000000</td>\n",
              "      <td>2.000000</td>\n",
              "      <td>2.000000</td>\n",
              "      <td>1.000000</td>\n",
              "      <td>1.000000</td>\n",
              "      <td>2.000000</td>\n",
              "    </tr>\n",
              "    <tr>\n",
              "      <th>50%</th>\n",
              "      <td>1.171710e+06</td>\n",
              "      <td>4.000000</td>\n",
              "      <td>1.000000</td>\n",
              "      <td>1.000000</td>\n",
              "      <td>1.000000</td>\n",
              "      <td>2.000000</td>\n",
              "      <td>3.000000</td>\n",
              "      <td>1.000000</td>\n",
              "      <td>1.000000</td>\n",
              "      <td>2.000000</td>\n",
              "    </tr>\n",
              "    <tr>\n",
              "      <th>75%</th>\n",
              "      <td>1.238298e+06</td>\n",
              "      <td>6.000000</td>\n",
              "      <td>5.000000</td>\n",
              "      <td>5.000000</td>\n",
              "      <td>4.000000</td>\n",
              "      <td>4.000000</td>\n",
              "      <td>5.000000</td>\n",
              "      <td>4.000000</td>\n",
              "      <td>1.000000</td>\n",
              "      <td>4.000000</td>\n",
              "    </tr>\n",
              "    <tr>\n",
              "      <th>max</th>\n",
              "      <td>1.345435e+07</td>\n",
              "      <td>10.000000</td>\n",
              "      <td>10.000000</td>\n",
              "      <td>10.000000</td>\n",
              "      <td>10.000000</td>\n",
              "      <td>10.000000</td>\n",
              "      <td>10.000000</td>\n",
              "      <td>10.000000</td>\n",
              "      <td>10.000000</td>\n",
              "      <td>4.000000</td>\n",
              "    </tr>\n",
              "  </tbody>\n",
              "</table>\n",
              "</div>"
            ]
          },
          "metadata": {},
          "execution_count": 105
        }
      ]
    },
    {
      "cell_type": "code",
      "metadata": {
        "id": "zkLWvsFUtAxc"
      },
      "source": [
        "temp=pd.DataFrame(df2['Bare Nuclei'].str.isdigit())"
      ],
      "execution_count": null,
      "outputs": []
    },
    {
      "cell_type": "code",
      "metadata": {
        "colab": {
          "base_uri": "https://localhost:8080/",
          "height": 539
        },
        "id": "-ismz_OluBuQ",
        "outputId": "269ec561-4e82-4997-ea33-11661bba7cf6"
      },
      "source": [
        "temp[temp['Bare Nuclei']==False]"
      ],
      "execution_count": null,
      "outputs": [
        {
          "output_type": "execute_result",
          "data": {
            "text/plain": [
              "     Bare Nuclei\n",
              "23         False\n",
              "40         False\n",
              "139        False\n",
              "145        False\n",
              "158        False\n",
              "164        False\n",
              "235        False\n",
              "249        False\n",
              "275        False\n",
              "292        False\n",
              "294        False\n",
              "297        False\n",
              "315        False\n",
              "321        False\n",
              "411        False\n",
              "617        False"
            ],
            "text/html": [
              "<div>\n",
              "<style scoped>\n",
              "    .dataframe tbody tr th:only-of-type {\n",
              "        vertical-align: middle;\n",
              "    }\n",
              "\n",
              "    .dataframe tbody tr th {\n",
              "        vertical-align: top;\n",
              "    }\n",
              "\n",
              "    .dataframe thead th {\n",
              "        text-align: right;\n",
              "    }\n",
              "</style>\n",
              "<table border=\"1\" class=\"dataframe\">\n",
              "  <thead>\n",
              "    <tr style=\"text-align: right;\">\n",
              "      <th></th>\n",
              "      <th>Bare Nuclei</th>\n",
              "    </tr>\n",
              "  </thead>\n",
              "  <tbody>\n",
              "    <tr>\n",
              "      <th>23</th>\n",
              "      <td>False</td>\n",
              "    </tr>\n",
              "    <tr>\n",
              "      <th>40</th>\n",
              "      <td>False</td>\n",
              "    </tr>\n",
              "    <tr>\n",
              "      <th>139</th>\n",
              "      <td>False</td>\n",
              "    </tr>\n",
              "    <tr>\n",
              "      <th>145</th>\n",
              "      <td>False</td>\n",
              "    </tr>\n",
              "    <tr>\n",
              "      <th>158</th>\n",
              "      <td>False</td>\n",
              "    </tr>\n",
              "    <tr>\n",
              "      <th>164</th>\n",
              "      <td>False</td>\n",
              "    </tr>\n",
              "    <tr>\n",
              "      <th>235</th>\n",
              "      <td>False</td>\n",
              "    </tr>\n",
              "    <tr>\n",
              "      <th>249</th>\n",
              "      <td>False</td>\n",
              "    </tr>\n",
              "    <tr>\n",
              "      <th>275</th>\n",
              "      <td>False</td>\n",
              "    </tr>\n",
              "    <tr>\n",
              "      <th>292</th>\n",
              "      <td>False</td>\n",
              "    </tr>\n",
              "    <tr>\n",
              "      <th>294</th>\n",
              "      <td>False</td>\n",
              "    </tr>\n",
              "    <tr>\n",
              "      <th>297</th>\n",
              "      <td>False</td>\n",
              "    </tr>\n",
              "    <tr>\n",
              "      <th>315</th>\n",
              "      <td>False</td>\n",
              "    </tr>\n",
              "    <tr>\n",
              "      <th>321</th>\n",
              "      <td>False</td>\n",
              "    </tr>\n",
              "    <tr>\n",
              "      <th>411</th>\n",
              "      <td>False</td>\n",
              "    </tr>\n",
              "    <tr>\n",
              "      <th>617</th>\n",
              "      <td>False</td>\n",
              "    </tr>\n",
              "  </tbody>\n",
              "</table>\n",
              "</div>"
            ]
          },
          "metadata": {},
          "execution_count": 107
        }
      ]
    },
    {
      "cell_type": "code",
      "metadata": {
        "id": "xusO2ruNWCv4"
      },
      "source": [
        "  # Id columns is to identify rows hence can be skipped in analysis\n",
        "  # All columns have numerical values\n",
        "  # Class would be the target variable. Should be removed when PCA is done"
      ],
      "execution_count": null,
      "outputs": []
    },
    {
      "cell_type": "markdown",
      "metadata": {
        "id": "KYTFwE0iWCv_"
      },
      "source": [
        "# Q2 Print the datatypes of each column and the shape of the dataset. Perform descriptive analysis "
      ]
    },
    {
      "cell_type": "code",
      "metadata": {
        "id": "abAqUIqjSM4X",
        "colab": {
          "base_uri": "https://localhost:8080/"
        },
        "outputId": "68df57f9-da34-4d39-b282-b6fdd274af1d"
      },
      "source": [
        "df2.mean()"
      ],
      "execution_count": null,
      "outputs": [
        {
          "output_type": "execute_result",
          "data": {
            "text/plain": [
              "ID                             1.071704e+06\n",
              "ClumpThickness                 4.417740e+00\n",
              "Cell Size                      3.134478e+00\n",
              "Cell Shape                     3.207439e+00\n",
              "Marginal Adhesion              2.806867e+00\n",
              "Single Epithelial Cell Size    3.216023e+00\n",
              "Normal Nucleoli                3.437768e+00\n",
              "Bland Chromatin                2.866953e+00\n",
              "Mitoses                        1.589413e+00\n",
              "Class                          2.689557e+00\n",
              "dtype: float64"
            ]
          },
          "metadata": {},
          "execution_count": 109
        }
      ]
    },
    {
      "cell_type": "code",
      "metadata": {
        "colab": {
          "base_uri": "https://localhost:8080/"
        },
        "id": "nZeUjrh-f0yc",
        "outputId": "0dac32d3-c64c-4be2-fbd0-7b3a90a95f60"
      },
      "source": [
        "df2.median()"
      ],
      "execution_count": null,
      "outputs": [
        {
          "output_type": "execute_result",
          "data": {
            "text/plain": [
              "ID                             1171710.0\n",
              "ClumpThickness                       4.0\n",
              "Cell Size                            1.0\n",
              "Cell Shape                           1.0\n",
              "Marginal Adhesion                    1.0\n",
              "Single Epithelial Cell Size          2.0\n",
              "Normal Nucleoli                      3.0\n",
              "Bland Chromatin                      1.0\n",
              "Mitoses                              1.0\n",
              "Class                                2.0\n",
              "dtype: float64"
            ]
          },
          "metadata": {},
          "execution_count": 110
        }
      ]
    },
    {
      "cell_type": "code",
      "metadata": {
        "colab": {
          "base_uri": "https://localhost:8080/",
          "height": 79
        },
        "id": "XrUqSvG5fy7u",
        "outputId": "ba56c6f3-151e-4127-c217-7011053518a3"
      },
      "source": [
        "df2.mode()"
      ],
      "execution_count": null,
      "outputs": [
        {
          "output_type": "execute_result",
          "data": {
            "text/plain": [
              "        ID  ClumpThickness  Cell Size  Cell Shape  Marginal Adhesion  \\\n",
              "0  1182404               1          1           1                  1   \n",
              "\n",
              "   Single Epithelial Cell Size Bare Nuclei  Normal Nucleoli  Bland Chromatin  \\\n",
              "0                            2           1                2                1   \n",
              "\n",
              "   Mitoses  Class  \n",
              "0        1      2  "
            ],
            "text/html": [
              "<div>\n",
              "<style scoped>\n",
              "    .dataframe tbody tr th:only-of-type {\n",
              "        vertical-align: middle;\n",
              "    }\n",
              "\n",
              "    .dataframe tbody tr th {\n",
              "        vertical-align: top;\n",
              "    }\n",
              "\n",
              "    .dataframe thead th {\n",
              "        text-align: right;\n",
              "    }\n",
              "</style>\n",
              "<table border=\"1\" class=\"dataframe\">\n",
              "  <thead>\n",
              "    <tr style=\"text-align: right;\">\n",
              "      <th></th>\n",
              "      <th>ID</th>\n",
              "      <th>ClumpThickness</th>\n",
              "      <th>Cell Size</th>\n",
              "      <th>Cell Shape</th>\n",
              "      <th>Marginal Adhesion</th>\n",
              "      <th>Single Epithelial Cell Size</th>\n",
              "      <th>Bare Nuclei</th>\n",
              "      <th>Normal Nucleoli</th>\n",
              "      <th>Bland Chromatin</th>\n",
              "      <th>Mitoses</th>\n",
              "      <th>Class</th>\n",
              "    </tr>\n",
              "  </thead>\n",
              "  <tbody>\n",
              "    <tr>\n",
              "      <th>0</th>\n",
              "      <td>1182404</td>\n",
              "      <td>1</td>\n",
              "      <td>1</td>\n",
              "      <td>1</td>\n",
              "      <td>1</td>\n",
              "      <td>2</td>\n",
              "      <td>1</td>\n",
              "      <td>2</td>\n",
              "      <td>1</td>\n",
              "      <td>1</td>\n",
              "      <td>2</td>\n",
              "    </tr>\n",
              "  </tbody>\n",
              "</table>\n",
              "</div>"
            ]
          },
          "metadata": {},
          "execution_count": 111
        }
      ]
    },
    {
      "cell_type": "code",
      "metadata": {
        "colab": {
          "base_uri": "https://localhost:8080/",
          "height": 35
        },
        "id": "OfA8pWb1gC7v",
        "outputId": "4b747851-6bfb-4b2b-ef59-25a19c9040ef"
      },
      "source": [
        "df2['Bare Nuclei'][40]"
      ],
      "execution_count": null,
      "outputs": [
        {
          "output_type": "execute_result",
          "data": {
            "application/vnd.google.colaboratory.intrinsic+json": {
              "type": "string"
            },
            "text/plain": [
              "'?'"
            ]
          },
          "metadata": {},
          "execution_count": 112
        }
      ]
    },
    {
      "cell_type": "code",
      "metadata": {
        "colab": {
          "base_uri": "https://localhost:8080/"
        },
        "id": "Fvw9inrQgIjf",
        "outputId": "503de8a8-c1f7-4c5e-a8c0-c23dfb75cc1f"
      },
      "source": [
        "df2.isna().sum()"
      ],
      "execution_count": null,
      "outputs": [
        {
          "output_type": "execute_result",
          "data": {
            "text/plain": [
              "ID                             0\n",
              "ClumpThickness                 0\n",
              "Cell Size                      0\n",
              "Cell Shape                     0\n",
              "Marginal Adhesion              0\n",
              "Single Epithelial Cell Size    0\n",
              "Bare Nuclei                    0\n",
              "Normal Nucleoli                0\n",
              "Bland Chromatin                0\n",
              "Mitoses                        0\n",
              "Class                          0\n",
              "dtype: int64"
            ]
          },
          "metadata": {},
          "execution_count": 113
        }
      ]
    },
    {
      "cell_type": "code",
      "metadata": {
        "colab": {
          "base_uri": "https://localhost:8080/"
        },
        "id": "EAqT4ybljVVo",
        "outputId": "4009ef9d-62b6-41fe-d889-f3a6b816e981"
      },
      "source": [
        "#Alternate\n",
        "print df2.isnull().values.any()"
      ],
      "execution_count": null,
      "outputs": [
        {
          "output_type": "stream",
          "name": "stdout",
          "text": [
            "False\n"
          ]
        }
      ]
    },
    {
      "cell_type": "markdown",
      "metadata": {
        "id": "ecghJZJIWCwW"
      },
      "source": [
        "# Q3 Check for missing value check, incorrect data, duplicate data and perform imputation with mean, median, mode as necessary.\n"
      ]
    },
    {
      "cell_type": "code",
      "metadata": {
        "colab": {
          "base_uri": "https://localhost:8080/"
        },
        "id": "X0PWOueJg1Qb",
        "outputId": "9d11b286-8abe-4dc3-9984-01a31a4ee72f"
      },
      "source": [
        "# We could see \"?\" values in column, this should be removed from data set\n",
        "# Check for missing value in any other column\n",
        "# No missing values found. So let us try to remove ? from bare nuclei column\n",
        "# Get count of rows having ?\n",
        "#-----------------------\n",
        "#Here we finf how many ? is displayed in Bare Nuclei\n",
        "len(df2[df2['Bare Nuclei']==\"?\"])"
      ],
      "execution_count": null,
      "outputs": [
        {
          "output_type": "execute_result",
          "data": {
            "text/plain": [
              "16"
            ]
          },
          "metadata": {},
          "execution_count": 115
        }
      ]
    },
    {
      "cell_type": "code",
      "metadata": {
        "colab": {
          "base_uri": "https://localhost:8080/"
        },
        "id": "-5ccjrEdk3aX",
        "outputId": "44fca62b-c926-4104-805a-48055ce87648"
      },
      "source": [
        "df2['Bare Nuclei'].replace(\"?\",1,inplace = True)\n",
        "df2['Bare Nuclei'].value_counts()"
      ],
      "execution_count": null,
      "outputs": [
        {
          "output_type": "execute_result",
          "data": {
            "text/plain": [
              "1     402\n",
              "10    132\n",
              "5      30\n",
              "2      30\n",
              "3      28\n",
              "8      21\n",
              "4      19\n",
              "1      16\n",
              "9       9\n",
              "7       8\n",
              "6       4\n",
              "Name: Bare Nuclei, dtype: int64"
            ]
          },
          "metadata": {},
          "execution_count": 116
        }
      ]
    },
    {
      "cell_type": "code",
      "metadata": {
        "colab": {
          "base_uri": "https://localhost:8080/",
          "height": 311
        },
        "id": "73Q8G8YOklmF",
        "outputId": "d6ebb39e-0987-40da-ca29-a8552cfbd259"
      },
      "source": [
        "duplicate = df2[df2.duplicated()]\n",
        "print(\"Duplicate Rows :\")\n",
        "# Print the resultant Dataframe\n",
        "duplicate"
      ],
      "execution_count": null,
      "outputs": [
        {
          "output_type": "stream",
          "name": "stdout",
          "text": [
            "Duplicate Rows :\n"
          ]
        },
        {
          "output_type": "execute_result",
          "data": {
            "text/plain": [
              "          ID  ClumpThickness  Cell Size  Cell Shape  Marginal Adhesion  \\\n",
              "208  1218860               1          1           1                  1   \n",
              "253  1100524               6         10          10                  2   \n",
              "254  1116116               9         10          10                  1   \n",
              "258  1198641               3          1           1                  1   \n",
              "272   320675               3          3           5                  2   \n",
              "338   704097               1          1           1                  1   \n",
              "561  1321942               5          1           1                  1   \n",
              "684   466906               1          1           1                  1   \n",
              "\n",
              "     Single Epithelial Cell Size Bare Nuclei  Normal Nucleoli  \\\n",
              "208                            1           1                3   \n",
              "253                            8          10                7   \n",
              "254                           10           8                3   \n",
              "258                            2           1                3   \n",
              "272                            3          10                7   \n",
              "338                            1           1                2   \n",
              "561                            2           1                3   \n",
              "684                            2           1                1   \n",
              "\n",
              "     Bland Chromatin  Mitoses  Class  \n",
              "208                1        1      2  \n",
              "253                3        3      4  \n",
              "254                3        1      4  \n",
              "258                1        1      2  \n",
              "272                1        1      4  \n",
              "338                1        1      2  \n",
              "561                1        1      2  \n",
              "684                1        1      2  "
            ],
            "text/html": [
              "<div>\n",
              "<style scoped>\n",
              "    .dataframe tbody tr th:only-of-type {\n",
              "        vertical-align: middle;\n",
              "    }\n",
              "\n",
              "    .dataframe tbody tr th {\n",
              "        vertical-align: top;\n",
              "    }\n",
              "\n",
              "    .dataframe thead th {\n",
              "        text-align: right;\n",
              "    }\n",
              "</style>\n",
              "<table border=\"1\" class=\"dataframe\">\n",
              "  <thead>\n",
              "    <tr style=\"text-align: right;\">\n",
              "      <th></th>\n",
              "      <th>ID</th>\n",
              "      <th>ClumpThickness</th>\n",
              "      <th>Cell Size</th>\n",
              "      <th>Cell Shape</th>\n",
              "      <th>Marginal Adhesion</th>\n",
              "      <th>Single Epithelial Cell Size</th>\n",
              "      <th>Bare Nuclei</th>\n",
              "      <th>Normal Nucleoli</th>\n",
              "      <th>Bland Chromatin</th>\n",
              "      <th>Mitoses</th>\n",
              "      <th>Class</th>\n",
              "    </tr>\n",
              "  </thead>\n",
              "  <tbody>\n",
              "    <tr>\n",
              "      <th>208</th>\n",
              "      <td>1218860</td>\n",
              "      <td>1</td>\n",
              "      <td>1</td>\n",
              "      <td>1</td>\n",
              "      <td>1</td>\n",
              "      <td>1</td>\n",
              "      <td>1</td>\n",
              "      <td>3</td>\n",
              "      <td>1</td>\n",
              "      <td>1</td>\n",
              "      <td>2</td>\n",
              "    </tr>\n",
              "    <tr>\n",
              "      <th>253</th>\n",
              "      <td>1100524</td>\n",
              "      <td>6</td>\n",
              "      <td>10</td>\n",
              "      <td>10</td>\n",
              "      <td>2</td>\n",
              "      <td>8</td>\n",
              "      <td>10</td>\n",
              "      <td>7</td>\n",
              "      <td>3</td>\n",
              "      <td>3</td>\n",
              "      <td>4</td>\n",
              "    </tr>\n",
              "    <tr>\n",
              "      <th>254</th>\n",
              "      <td>1116116</td>\n",
              "      <td>9</td>\n",
              "      <td>10</td>\n",
              "      <td>10</td>\n",
              "      <td>1</td>\n",
              "      <td>10</td>\n",
              "      <td>8</td>\n",
              "      <td>3</td>\n",
              "      <td>3</td>\n",
              "      <td>1</td>\n",
              "      <td>4</td>\n",
              "    </tr>\n",
              "    <tr>\n",
              "      <th>258</th>\n",
              "      <td>1198641</td>\n",
              "      <td>3</td>\n",
              "      <td>1</td>\n",
              "      <td>1</td>\n",
              "      <td>1</td>\n",
              "      <td>2</td>\n",
              "      <td>1</td>\n",
              "      <td>3</td>\n",
              "      <td>1</td>\n",
              "      <td>1</td>\n",
              "      <td>2</td>\n",
              "    </tr>\n",
              "    <tr>\n",
              "      <th>272</th>\n",
              "      <td>320675</td>\n",
              "      <td>3</td>\n",
              "      <td>3</td>\n",
              "      <td>5</td>\n",
              "      <td>2</td>\n",
              "      <td>3</td>\n",
              "      <td>10</td>\n",
              "      <td>7</td>\n",
              "      <td>1</td>\n",
              "      <td>1</td>\n",
              "      <td>4</td>\n",
              "    </tr>\n",
              "    <tr>\n",
              "      <th>338</th>\n",
              "      <td>704097</td>\n",
              "      <td>1</td>\n",
              "      <td>1</td>\n",
              "      <td>1</td>\n",
              "      <td>1</td>\n",
              "      <td>1</td>\n",
              "      <td>1</td>\n",
              "      <td>2</td>\n",
              "      <td>1</td>\n",
              "      <td>1</td>\n",
              "      <td>2</td>\n",
              "    </tr>\n",
              "    <tr>\n",
              "      <th>561</th>\n",
              "      <td>1321942</td>\n",
              "      <td>5</td>\n",
              "      <td>1</td>\n",
              "      <td>1</td>\n",
              "      <td>1</td>\n",
              "      <td>2</td>\n",
              "      <td>1</td>\n",
              "      <td>3</td>\n",
              "      <td>1</td>\n",
              "      <td>1</td>\n",
              "      <td>2</td>\n",
              "    </tr>\n",
              "    <tr>\n",
              "      <th>684</th>\n",
              "      <td>466906</td>\n",
              "      <td>1</td>\n",
              "      <td>1</td>\n",
              "      <td>1</td>\n",
              "      <td>1</td>\n",
              "      <td>2</td>\n",
              "      <td>1</td>\n",
              "      <td>1</td>\n",
              "      <td>1</td>\n",
              "      <td>1</td>\n",
              "      <td>2</td>\n",
              "    </tr>\n",
              "  </tbody>\n",
              "</table>\n",
              "</div>"
            ]
          },
          "metadata": {},
          "execution_count": 117
        }
      ]
    },
    {
      "cell_type": "code",
      "metadata": {
        "colab": {
          "base_uri": "https://localhost:8080/"
        },
        "id": "E8GL6wb-pGIR",
        "outputId": "2fed77a6-7c2c-40ae-b3de-faf01797f8e9"
      },
      "source": [
        "dups = df2.duplicated()\n",
        "print(dups.sum())"
      ],
      "execution_count": null,
      "outputs": [
        {
          "output_type": "stream",
          "name": "stdout",
          "text": [
            "8\n"
          ]
        }
      ]
    },
    {
      "cell_type": "code",
      "metadata": {
        "id": "tkd2DK3MpPLN"
      },
      "source": [
        "df2.drop_duplicates(subset=None,keep=\"first\",inplace=True)"
      ],
      "execution_count": null,
      "outputs": []
    },
    {
      "cell_type": "code",
      "metadata": {
        "colab": {
          "base_uri": "https://localhost:8080/"
        },
        "id": "H7IXnrTxlcx_",
        "outputId": "ec7dfe29-6fc8-4255-cdeb-3c13d7f49420"
      },
      "source": [
        "df2.info()"
      ],
      "execution_count": null,
      "outputs": [
        {
          "output_type": "stream",
          "name": "stdout",
          "text": [
            "<class 'pandas.core.frame.DataFrame'>\n",
            "Int64Index: 691 entries, 0 to 698\n",
            "Data columns (total 11 columns):\n",
            "ID                             691 non-null int64\n",
            "ClumpThickness                 691 non-null int64\n",
            "Cell Size                      691 non-null int64\n",
            "Cell Shape                     691 non-null int64\n",
            "Marginal Adhesion              691 non-null int64\n",
            "Single Epithelial Cell Size    691 non-null int64\n",
            "Bare Nuclei                    691 non-null object\n",
            "Normal Nucleoli                691 non-null int64\n",
            "Bland Chromatin                691 non-null int64\n",
            "Mitoses                        691 non-null int64\n",
            "Class                          691 non-null int64\n",
            "dtypes: int64(10), object(1)\n",
            "memory usage: 64.8+ KB\n"
          ]
        }
      ]
    },
    {
      "cell_type": "code",
      "metadata": {
        "colab": {
          "base_uri": "https://localhost:8080/"
        },
        "id": "q5aUWzK6mCVy",
        "outputId": "2c38e4de-2980-47bd-9b6f-6bf3e0658438"
      },
      "source": [
        "df2[\"Bare Nuclei\"] = df2[\"Bare Nuclei\"].astype(str).astype(int)\n",
        "print(df2.dtypes)\n",
        "\n",
        "# or\n",
        "# df2[\"Bare Nuclei\"] = pd.to_numeric(df['Bare Nuclei'])"
      ],
      "execution_count": null,
      "outputs": [
        {
          "output_type": "stream",
          "name": "stdout",
          "text": [
            "ID                             int64\n",
            "ClumpThickness                 int64\n",
            "Cell Size                      int64\n",
            "Cell Shape                     int64\n",
            "Marginal Adhesion              int64\n",
            "Single Epithelial Cell Size    int64\n",
            "Bare Nuclei                    int64\n",
            "Normal Nucleoli                int64\n",
            "Bland Chromatin                int64\n",
            "Mitoses                        int64\n",
            "Class                          int64\n",
            "dtype: object\n"
          ]
        }
      ]
    },
    {
      "cell_type": "code",
      "metadata": {
        "colab": {
          "base_uri": "https://localhost:8080/"
        },
        "id": "arRPVdXWmOus",
        "outputId": "9fc7564a-567f-4fd7-b529-3c0e2e3364d7"
      },
      "source": [
        "df2.info()"
      ],
      "execution_count": null,
      "outputs": [
        {
          "output_type": "stream",
          "name": "stdout",
          "text": [
            "<class 'pandas.core.frame.DataFrame'>\n",
            "Int64Index: 691 entries, 0 to 698\n",
            "Data columns (total 11 columns):\n",
            "ID                             691 non-null int64\n",
            "ClumpThickness                 691 non-null int64\n",
            "Cell Size                      691 non-null int64\n",
            "Cell Shape                     691 non-null int64\n",
            "Marginal Adhesion              691 non-null int64\n",
            "Single Epithelial Cell Size    691 non-null int64\n",
            "Bare Nuclei                    691 non-null int64\n",
            "Normal Nucleoli                691 non-null int64\n",
            "Bland Chromatin                691 non-null int64\n",
            "Mitoses                        691 non-null int64\n",
            "Class                          691 non-null int64\n",
            "dtypes: int64(11)\n",
            "memory usage: 64.8 KB\n"
          ]
        }
      ]
    },
    {
      "cell_type": "code",
      "metadata": {
        "id": "jAmWPaXpWCw3"
      },
      "source": [
        "# 16 values are corrupted. We can either delete them as it forms roughly 2% of data.\n",
        "# Here we would like to impute it with suitable values"
      ],
      "execution_count": null,
      "outputs": []
    },
    {
      "cell_type": "markdown",
      "metadata": {
        "id": "YAu8NvGaWCxr"
      },
      "source": [
        "# Q4. Perform bi variate analysis including correlation, pairplots and state the inferences. \n"
      ]
    },
    {
      "cell_type": "code",
      "metadata": {
        "id": "nu6J2sWuSM4m"
      },
      "source": [
        "# Check for correlation of variables"
      ],
      "execution_count": null,
      "outputs": []
    },
    {
      "cell_type": "code",
      "metadata": {
        "id": "ysZh50iDWCxz"
      },
      "source": [
        "# Cell size shows high significance with cell shape,marginal adhesion, single epithelial cell size,bare nuclei, normal nucleoli \n",
        "# and bland chromatin\n",
        "# Target variable shows high correlation with most of these variables"
      ],
      "execution_count": null,
      "outputs": []
    },
    {
      "cell_type": "code",
      "metadata": {
        "id": "5Wt84dgVSM4s"
      },
      "source": [
        "#Let us check the pair plot"
      ],
      "execution_count": null,
      "outputs": []
    },
    {
      "cell_type": "code",
      "metadata": {
        "id": "OTh11akvWCx8"
      },
      "source": [
        "# Relationship between variables shows come correlation. \n",
        "# Distribution of variables shows most of the values are concentrated on lower side, though range remains same for all that is \n",
        "# Between 1 to 10"
      ],
      "execution_count": null,
      "outputs": []
    },
    {
      "cell_type": "code",
      "metadata": {
        "id": "v3c_HYVUuCWS"
      },
      "source": [
        "df = df2.drop(['ID'],axis=1)"
      ],
      "execution_count": null,
      "outputs": []
    },
    {
      "cell_type": "code",
      "metadata": {
        "colab": {
          "base_uri": "https://localhost:8080/",
          "height": 355
        },
        "id": "a9tl2FBGqz06",
        "outputId": "d6a66866-8a55-4937-fcc1-103867a13de6"
      },
      "source": [
        "df.corr()"
      ],
      "execution_count": null,
      "outputs": [
        {
          "output_type": "execute_result",
          "data": {
            "text/plain": [
              "                             ClumpThickness  Cell Size  Cell Shape  \\\n",
              "ClumpThickness                     1.000000   0.643340    0.653752   \n",
              "Cell Size                          0.643340   1.000000    0.905420   \n",
              "Cell Shape                         0.653752   0.905420    1.000000   \n",
              "Marginal Adhesion                  0.487949   0.713117    0.690989   \n",
              "Single Epithelial Cell Size        0.517448   0.747111    0.714393   \n",
              "Bare Nuclei                        0.590841   0.684791    0.704382   \n",
              "Normal Nucleoli                    0.561076   0.759525    0.738455   \n",
              "Bland Chromatin                    0.535712   0.727239    0.724693   \n",
              "Mitoses                            0.350354   0.460064    0.440592   \n",
              "Class                              0.716938   0.817720    0.817693   \n",
              "\n",
              "                             Marginal Adhesion  Single Epithelial Cell Size  \\\n",
              "ClumpThickness                        0.487949                     0.517448   \n",
              "Cell Size                             0.713117                     0.747111   \n",
              "Cell Shape                            0.690989                     0.714393   \n",
              "Marginal Adhesion                     1.000000                     0.608477   \n",
              "Single Epithelial Cell Size           0.608477                     1.000000   \n",
              "Bare Nuclei                           0.672719                     0.580709   \n",
              "Normal Nucleoli                       0.669813                     0.620518   \n",
              "Bland Chromatin                       0.602453                     0.634058   \n",
              "Mitoses                               0.417167                     0.482644   \n",
              "Class                                 0.701371                     0.681233   \n",
              "\n",
              "                             Bare Nuclei  Normal Nucleoli  Bland Chromatin  \\\n",
              "ClumpThickness                  0.590841         0.561076         0.535712   \n",
              "Cell Size                       0.684791         0.759525         0.727239   \n",
              "Cell Shape                      0.704382         0.738455         0.724693   \n",
              "Marginal Adhesion               0.672719         0.669813         0.602453   \n",
              "Single Epithelial Cell Size     0.580709         0.620518         0.634058   \n",
              "Bare Nuclei                     1.000000         0.672687         0.578417   \n",
              "Normal Nucleoli                 0.672687         1.000000         0.669059   \n",
              "Bland Chromatin                 0.578417         0.669059         1.000000   \n",
              "Mitoses                         0.343020         0.343821         0.427644   \n",
              "Class                           0.816787         0.756618         0.715540   \n",
              "\n",
              "                              Mitoses     Class  \n",
              "ClumpThickness               0.350354  0.716938  \n",
              "Cell Size                    0.460064  0.817720  \n",
              "Cell Shape                   0.440592  0.817693  \n",
              "Marginal Adhesion            0.417167  0.701371  \n",
              "Single Epithelial Cell Size  0.482644  0.681233  \n",
              "Bare Nuclei                  0.343020  0.816787  \n",
              "Normal Nucleoli              0.343821  0.756618  \n",
              "Bland Chromatin              0.427644  0.715540  \n",
              "Mitoses                      1.000000  0.424111  \n",
              "Class                        0.424111  1.000000  "
            ],
            "text/html": [
              "<div>\n",
              "<style scoped>\n",
              "    .dataframe tbody tr th:only-of-type {\n",
              "        vertical-align: middle;\n",
              "    }\n",
              "\n",
              "    .dataframe tbody tr th {\n",
              "        vertical-align: top;\n",
              "    }\n",
              "\n",
              "    .dataframe thead th {\n",
              "        text-align: right;\n",
              "    }\n",
              "</style>\n",
              "<table border=\"1\" class=\"dataframe\">\n",
              "  <thead>\n",
              "    <tr style=\"text-align: right;\">\n",
              "      <th></th>\n",
              "      <th>ClumpThickness</th>\n",
              "      <th>Cell Size</th>\n",
              "      <th>Cell Shape</th>\n",
              "      <th>Marginal Adhesion</th>\n",
              "      <th>Single Epithelial Cell Size</th>\n",
              "      <th>Bare Nuclei</th>\n",
              "      <th>Normal Nucleoli</th>\n",
              "      <th>Bland Chromatin</th>\n",
              "      <th>Mitoses</th>\n",
              "      <th>Class</th>\n",
              "    </tr>\n",
              "  </thead>\n",
              "  <tbody>\n",
              "    <tr>\n",
              "      <th>ClumpThickness</th>\n",
              "      <td>1.000000</td>\n",
              "      <td>0.643340</td>\n",
              "      <td>0.653752</td>\n",
              "      <td>0.487949</td>\n",
              "      <td>0.517448</td>\n",
              "      <td>0.590841</td>\n",
              "      <td>0.561076</td>\n",
              "      <td>0.535712</td>\n",
              "      <td>0.350354</td>\n",
              "      <td>0.716938</td>\n",
              "    </tr>\n",
              "    <tr>\n",
              "      <th>Cell Size</th>\n",
              "      <td>0.643340</td>\n",
              "      <td>1.000000</td>\n",
              "      <td>0.905420</td>\n",
              "      <td>0.713117</td>\n",
              "      <td>0.747111</td>\n",
              "      <td>0.684791</td>\n",
              "      <td>0.759525</td>\n",
              "      <td>0.727239</td>\n",
              "      <td>0.460064</td>\n",
              "      <td>0.817720</td>\n",
              "    </tr>\n",
              "    <tr>\n",
              "      <th>Cell Shape</th>\n",
              "      <td>0.653752</td>\n",
              "      <td>0.905420</td>\n",
              "      <td>1.000000</td>\n",
              "      <td>0.690989</td>\n",
              "      <td>0.714393</td>\n",
              "      <td>0.704382</td>\n",
              "      <td>0.738455</td>\n",
              "      <td>0.724693</td>\n",
              "      <td>0.440592</td>\n",
              "      <td>0.817693</td>\n",
              "    </tr>\n",
              "    <tr>\n",
              "      <th>Marginal Adhesion</th>\n",
              "      <td>0.487949</td>\n",
              "      <td>0.713117</td>\n",
              "      <td>0.690989</td>\n",
              "      <td>1.000000</td>\n",
              "      <td>0.608477</td>\n",
              "      <td>0.672719</td>\n",
              "      <td>0.669813</td>\n",
              "      <td>0.602453</td>\n",
              "      <td>0.417167</td>\n",
              "      <td>0.701371</td>\n",
              "    </tr>\n",
              "    <tr>\n",
              "      <th>Single Epithelial Cell Size</th>\n",
              "      <td>0.517448</td>\n",
              "      <td>0.747111</td>\n",
              "      <td>0.714393</td>\n",
              "      <td>0.608477</td>\n",
              "      <td>1.000000</td>\n",
              "      <td>0.580709</td>\n",
              "      <td>0.620518</td>\n",
              "      <td>0.634058</td>\n",
              "      <td>0.482644</td>\n",
              "      <td>0.681233</td>\n",
              "    </tr>\n",
              "    <tr>\n",
              "      <th>Bare Nuclei</th>\n",
              "      <td>0.590841</td>\n",
              "      <td>0.684791</td>\n",
              "      <td>0.704382</td>\n",
              "      <td>0.672719</td>\n",
              "      <td>0.580709</td>\n",
              "      <td>1.000000</td>\n",
              "      <td>0.672687</td>\n",
              "      <td>0.578417</td>\n",
              "      <td>0.343020</td>\n",
              "      <td>0.816787</td>\n",
              "    </tr>\n",
              "    <tr>\n",
              "      <th>Normal Nucleoli</th>\n",
              "      <td>0.561076</td>\n",
              "      <td>0.759525</td>\n",
              "      <td>0.738455</td>\n",
              "      <td>0.669813</td>\n",
              "      <td>0.620518</td>\n",
              "      <td>0.672687</td>\n",
              "      <td>1.000000</td>\n",
              "      <td>0.669059</td>\n",
              "      <td>0.343821</td>\n",
              "      <td>0.756618</td>\n",
              "    </tr>\n",
              "    <tr>\n",
              "      <th>Bland Chromatin</th>\n",
              "      <td>0.535712</td>\n",
              "      <td>0.727239</td>\n",
              "      <td>0.724693</td>\n",
              "      <td>0.602453</td>\n",
              "      <td>0.634058</td>\n",
              "      <td>0.578417</td>\n",
              "      <td>0.669059</td>\n",
              "      <td>1.000000</td>\n",
              "      <td>0.427644</td>\n",
              "      <td>0.715540</td>\n",
              "    </tr>\n",
              "    <tr>\n",
              "      <th>Mitoses</th>\n",
              "      <td>0.350354</td>\n",
              "      <td>0.460064</td>\n",
              "      <td>0.440592</td>\n",
              "      <td>0.417167</td>\n",
              "      <td>0.482644</td>\n",
              "      <td>0.343020</td>\n",
              "      <td>0.343821</td>\n",
              "      <td>0.427644</td>\n",
              "      <td>1.000000</td>\n",
              "      <td>0.424111</td>\n",
              "    </tr>\n",
              "    <tr>\n",
              "      <th>Class</th>\n",
              "      <td>0.716938</td>\n",
              "      <td>0.817720</td>\n",
              "      <td>0.817693</td>\n",
              "      <td>0.701371</td>\n",
              "      <td>0.681233</td>\n",
              "      <td>0.816787</td>\n",
              "      <td>0.756618</td>\n",
              "      <td>0.715540</td>\n",
              "      <td>0.424111</td>\n",
              "      <td>1.000000</td>\n",
              "    </tr>\n",
              "  </tbody>\n",
              "</table>\n",
              "</div>"
            ]
          },
          "metadata": {},
          "execution_count": 129
        }
      ]
    },
    {
      "cell_type": "code",
      "metadata": {
        "colab": {
          "base_uri": "https://localhost:8080/",
          "height": 400
        },
        "id": "xb1eggPLtx1f",
        "outputId": "4222aa21-5fcb-4afc-aa79-d1c610b15992"
      },
      "source": [
        "plt.figure(figsize=(7 ,5))\n",
        "sns.countplot(df['Class'])\n",
        "plt.title(\"Number of Normal Patient and Abnormal patients\")\n",
        "plt.show()\n",
        "print(df['Class'].value_counts())"
      ],
      "execution_count": null,
      "outputs": [
        {
          "output_type": "display_data",
          "data": {
            "image/png": "[encoded data removed]",
            "text/plain": [
              "<Figure size 504x360 with 1 Axes>"
            ]
          },
          "metadata": {
            "needs_background": "light"
          }
        },
        {
          "output_type": "stream",
          "name": "stdout",
          "text": [
            "2    453\n",
            "4    238\n",
            "Name: Class, dtype: int64\n"
          ]
        }
      ]
    },
    {
      "cell_type": "code",
      "metadata": {
        "colab": {
          "base_uri": "https://localhost:8080/",
          "height": 510
        },
        "id": "qfUiBuluwIP6",
        "outputId": "da648804-d33d-4f2c-a429-5cbaf049fdb5"
      },
      "source": [
        "plt.figure(figsize=(7,6))\n",
        "corr_matrix = df.corr()\n",
        "sns.heatmap(corr_matrix,annot = True,fmt='0.2f',annot_kws={'size':10}, cmap = plt.get_cmap(\"jet\"))"
      ],
      "execution_count": null,
      "outputs": [
        {
          "output_type": "execute_result",
          "data": {
            "text/plain": [
              "<matplotlib.axes._subplots.AxesSubplot at 0x7f1d9d78f5d0>"
            ]
          },
          "metadata": {},
          "execution_count": 131
        },
        {
          "output_type": "display_data",
          "data": {
            "image/png": "[encoded data removed]",
            "text/plain": [
              "<Figure size 504x432 with 2 Axes>"
            ]
          },
          "metadata": {
            "needs_background": "light"
          }
        }
      ]
    },
    {
      "cell_type": "code",
      "metadata": {
        "colab": {
          "base_uri": "https://localhost:8080/",
          "height": 1000
        },
        "id": "uynbc460xSjX",
        "outputId": "52ad871b-ea90-4079-f09e-9b7f1471f993"
      },
      "source": [
        "sns.pairplot(df,diag_kind='kde',hue=\"Class\")"
      ],
      "execution_count": null,
      "outputs": [
        {
          "output_type": "execute_result",
          "data": {
            "text/plain": [
              "<seaborn.axisgrid.PairGrid at 0x7f1d9d7c2cd0>"
            ]
          },
          "metadata": {},
          "execution_count": 132
        },
        {
          "output_type": "display_data",
          "data": {
            "image/png": "[encoded data removed]",
            "text/plain": [
              "<Figure size 1842.38x1800 with 110 Axes>"
            ]
          },
          "metadata": {
            "needs_background": "light"
          }
        }
      ]
    },
    {
      "cell_type": "markdown",
      "metadata": {
        "id": "9hxe7D9BWCx-"
      },
      "source": [
        "# Q5 Remove any unwanted columns or outliers, standardize variables in pre-processing step"
      ]
    },
    {
      "cell_type": "code",
      "metadata": {
        "id": "ViVkMsQTWCza",
        "colab": {
          "base_uri": "https://localhost:8080/",
          "height": 231
        },
        "outputId": "e99fef9b-bd36-4daa-ce84-84bea62f9b46"
      },
      "source": [
        "# We could see most of the outliers are now removed.\n",
        "df.boxplot(figsize=(20,3))"
      ],
      "execution_count": null,
      "outputs": [
        {
          "output_type": "execute_result",
          "data": {
            "text/plain": [
              "<matplotlib.axes._subplots.AxesSubplot at 0x7f1d9d7c5590>"
            ]
          },
          "metadata": {},
          "execution_count": 133
        },
        {
          "output_type": "display_data",
          "data": {
            "image/png": "[encoded data removed]",
            "text/plain": [
              "<Figure size 1440x216 with 1 Axes>"
            ]
          },
          "metadata": {
            "needs_background": "light"
          }
        }
      ]
    },
    {
      "cell_type": "code",
      "metadata": {
        "colab": {
          "base_uri": "https://localhost:8080/",
          "height": 386
        },
        "id": "0zMF1ApKykdb",
        "outputId": "28914c99-2bf4-47ad-b9c6-d72f8ce7961c"
      },
      "source": [
        "pd.crosstab(df['Marginal Adhesion'],df['Class'])"
      ],
      "execution_count": null,
      "outputs": [
        {
          "output_type": "execute_result",
          "data": {
            "text/plain": [
              "Class                2   4\n",
              "Marginal Adhesion         \n",
              "1                  370  31\n",
              "2                   37  19\n",
              "3                   31  27\n",
              "4                    5  28\n",
              "5                    4  19\n",
              "6                    4  18\n",
              "7                    0  13\n",
              "8                    0  25\n",
              "9                    1   4\n",
              "10                   1  54"
            ],
            "text/html": [
              "<div>\n",
              "<style scoped>\n",
              "    .dataframe tbody tr th:only-of-type {\n",
              "        vertical-align: middle;\n",
              "    }\n",
              "\n",
              "    .dataframe tbody tr th {\n",
              "        vertical-align: top;\n",
              "    }\n",
              "\n",
              "    .dataframe thead th {\n",
              "        text-align: right;\n",
              "    }\n",
              "</style>\n",
              "<table border=\"1\" class=\"dataframe\">\n",
              "  <thead>\n",
              "    <tr style=\"text-align: right;\">\n",
              "      <th>Class</th>\n",
              "      <th>2</th>\n",
              "      <th>4</th>\n",
              "    </tr>\n",
              "    <tr>\n",
              "      <th>Marginal Adhesion</th>\n",
              "      <th></th>\n",
              "      <th></th>\n",
              "    </tr>\n",
              "  </thead>\n",
              "  <tbody>\n",
              "    <tr>\n",
              "      <th>1</th>\n",
              "      <td>370</td>\n",
              "      <td>31</td>\n",
              "    </tr>\n",
              "    <tr>\n",
              "      <th>2</th>\n",
              "      <td>37</td>\n",
              "      <td>19</td>\n",
              "    </tr>\n",
              "    <tr>\n",
              "      <th>3</th>\n",
              "      <td>31</td>\n",
              "      <td>27</td>\n",
              "    </tr>\n",
              "    <tr>\n",
              "      <th>4</th>\n",
              "      <td>5</td>\n",
              "      <td>28</td>\n",
              "    </tr>\n",
              "    <tr>\n",
              "      <th>5</th>\n",
              "      <td>4</td>\n",
              "      <td>19</td>\n",
              "    </tr>\n",
              "    <tr>\n",
              "      <th>6</th>\n",
              "      <td>4</td>\n",
              "      <td>18</td>\n",
              "    </tr>\n",
              "    <tr>\n",
              "      <th>7</th>\n",
              "      <td>0</td>\n",
              "      <td>13</td>\n",
              "    </tr>\n",
              "    <tr>\n",
              "      <th>8</th>\n",
              "      <td>0</td>\n",
              "      <td>25</td>\n",
              "    </tr>\n",
              "    <tr>\n",
              "      <th>9</th>\n",
              "      <td>1</td>\n",
              "      <td>4</td>\n",
              "    </tr>\n",
              "    <tr>\n",
              "      <th>10</th>\n",
              "      <td>1</td>\n",
              "      <td>54</td>\n",
              "    </tr>\n",
              "  </tbody>\n",
              "</table>\n",
              "</div>"
            ]
          },
          "metadata": {},
          "execution_count": 134
        }
      ]
    },
    {
      "cell_type": "code",
      "metadata": {
        "id": "TqhCGZe4SM43"
      },
      "source": [
        "df['Marginal Adhesion']=np.where(df['Marginal Adhesion']> 4,4,df['Marginal Adhesion'])\n"
      ],
      "execution_count": null,
      "outputs": []
    },
    {
      "cell_type": "code",
      "metadata": {
        "id": "aEHksGGtSM48",
        "colab": {
          "base_uri": "https://localhost:8080/"
        },
        "outputId": "6cbab880-329c-41a4-d9c8-7a54748d2c9c"
      },
      "source": [
        "df['Marginal Adhesion'].value_counts"
      ],
      "execution_count": null,
      "outputs": [
        {
          "output_type": "execute_result",
          "data": {
            "text/plain": [
              "<bound method Series.value_counts of 0      1\n",
              "1      4\n",
              "2      1\n",
              "3      1\n",
              "4      3\n",
              "5      4\n",
              "6      1\n",
              "7      1\n",
              "8      1\n",
              "9      1\n",
              "10     1\n",
              "11     1\n",
              "12     3\n",
              "13     1\n",
              "14     4\n",
              "15     4\n",
              "16     1\n",
              "17     1\n",
              "18     4\n",
              "19     1\n",
              "20     4\n",
              "21     3\n",
              "22     1\n",
              "23     1\n",
              "24     1\n",
              "25     4\n",
              "26     1\n",
              "27     1\n",
              "28     1\n",
              "29     1\n",
              "      ..\n",
              "668    1\n",
              "669    4\n",
              "670    4\n",
              "671    2\n",
              "672    1\n",
              "673    1\n",
              "674    1\n",
              "675    1\n",
              "676    1\n",
              "677    1\n",
              "678    1\n",
              "679    1\n",
              "680    4\n",
              "681    4\n",
              "682    1\n",
              "683    1\n",
              "685    1\n",
              "686    1\n",
              "687    1\n",
              "688    1\n",
              "689    1\n",
              "690    3\n",
              "691    4\n",
              "692    1\n",
              "693    1\n",
              "694    1\n",
              "695    1\n",
              "696    3\n",
              "697    4\n",
              "698    4\n",
              "Name: Marginal Adhesion, Length: 691, dtype: int64>"
            ]
          },
          "metadata": {},
          "execution_count": 136
        }
      ]
    },
    {
      "cell_type": "code",
      "metadata": {
        "id": "9i0Qqn28SM4_",
        "colab": {
          "base_uri": "https://localhost:8080/",
          "height": 386
        },
        "outputId": "18603712-a05f-4eea-914e-d118e68d2619"
      },
      "source": [
        "pd.crosstab(df['Single Epithelial Cell Size'],df['Class'])"
      ],
      "execution_count": null,
      "outputs": [
        {
          "output_type": "execute_result",
          "data": {
            "text/plain": [
              "Class                          2   4\n",
              "Single Epithelial Cell Size         \n",
              "1                             44   1\n",
              "2                            360  23\n",
              "3                             29  42\n",
              "4                              7  41\n",
              "5                              5  34\n",
              "6                              2  39\n",
              "7                              3   9\n",
              "8                              2  18\n",
              "9                              0   2\n",
              "10                             1  29"
            ],
            "text/html": [
              "<div>\n",
              "<style scoped>\n",
              "    .dataframe tbody tr th:only-of-type {\n",
              "        vertical-align: middle;\n",
              "    }\n",
              "\n",
              "    .dataframe tbody tr th {\n",
              "        vertical-align: top;\n",
              "    }\n",
              "\n",
              "    .dataframe thead th {\n",
              "        text-align: right;\n",
              "    }\n",
              "</style>\n",
              "<table border=\"1\" class=\"dataframe\">\n",
              "  <thead>\n",
              "    <tr style=\"text-align: right;\">\n",
              "      <th>Class</th>\n",
              "      <th>2</th>\n",
              "      <th>4</th>\n",
              "    </tr>\n",
              "    <tr>\n",
              "      <th>Single Epithelial Cell Size</th>\n",
              "      <th></th>\n",
              "      <th></th>\n",
              "    </tr>\n",
              "  </thead>\n",
              "  <tbody>\n",
              "    <tr>\n",
              "      <th>1</th>\n",
              "      <td>44</td>\n",
              "      <td>1</td>\n",
              "    </tr>\n",
              "    <tr>\n",
              "      <th>2</th>\n",
              "      <td>360</td>\n",
              "      <td>23</td>\n",
              "    </tr>\n",
              "    <tr>\n",
              "      <th>3</th>\n",
              "      <td>29</td>\n",
              "      <td>42</td>\n",
              "    </tr>\n",
              "    <tr>\n",
              "      <th>4</th>\n",
              "      <td>7</td>\n",
              "      <td>41</td>\n",
              "    </tr>\n",
              "    <tr>\n",
              "      <th>5</th>\n",
              "      <td>5</td>\n",
              "      <td>34</td>\n",
              "    </tr>\n",
              "    <tr>\n",
              "      <th>6</th>\n",
              "      <td>2</td>\n",
              "      <td>39</td>\n",
              "    </tr>\n",
              "    <tr>\n",
              "      <th>7</th>\n",
              "      <td>3</td>\n",
              "      <td>9</td>\n",
              "    </tr>\n",
              "    <tr>\n",
              "      <th>8</th>\n",
              "      <td>2</td>\n",
              "      <td>18</td>\n",
              "    </tr>\n",
              "    <tr>\n",
              "      <th>9</th>\n",
              "      <td>0</td>\n",
              "      <td>2</td>\n",
              "    </tr>\n",
              "    <tr>\n",
              "      <th>10</th>\n",
              "      <td>1</td>\n",
              "      <td>29</td>\n",
              "    </tr>\n",
              "  </tbody>\n",
              "</table>\n",
              "</div>"
            ]
          },
          "metadata": {},
          "execution_count": 137
        }
      ]
    },
    {
      "cell_type": "code",
      "metadata": {
        "id": "ELaz-OFi0RLD"
      },
      "source": [
        "df['Single Epithelial Cell Size']=np.where(df['Single Epithelial Cell Size']> 6,6,df['Single Epithelial Cell Size'])"
      ],
      "execution_count": null,
      "outputs": []
    },
    {
      "cell_type": "code",
      "metadata": {
        "colab": {
          "base_uri": "https://localhost:8080/"
        },
        "id": "8CH4WGL_0eSL",
        "outputId": "78e200a1-2a28-41dd-aa15-c0cb8e0e7d71"
      },
      "source": [
        "df['Single Epithelial Cell Size'].value_counts"
      ],
      "execution_count": null,
      "outputs": [
        {
          "output_type": "execute_result",
          "data": {
            "text/plain": [
              "<bound method Series.value_counts of 0      2\n",
              "1      6\n",
              "2      2\n",
              "3      3\n",
              "4      2\n",
              "5      6\n",
              "6      2\n",
              "7      2\n",
              "8      2\n",
              "9      2\n",
              "10     1\n",
              "11     2\n",
              "12     2\n",
              "13     2\n",
              "14     6\n",
              "15     6\n",
              "16     2\n",
              "17     2\n",
              "18     4\n",
              "19     2\n",
              "20     5\n",
              "21     6\n",
              "22     2\n",
              "23     2\n",
              "24     2\n",
              "25     2\n",
              "26     1\n",
              "27     2\n",
              "28     2\n",
              "29     2\n",
              "      ..\n",
              "668    6\n",
              "669    5\n",
              "670    5\n",
              "671    2\n",
              "672    2\n",
              "673    3\n",
              "674    2\n",
              "675    2\n",
              "676    2\n",
              "677    2\n",
              "678    2\n",
              "679    2\n",
              "680    5\n",
              "681    4\n",
              "682    2\n",
              "683    2\n",
              "685    2\n",
              "686    2\n",
              "687    2\n",
              "688    2\n",
              "689    2\n",
              "690    2\n",
              "691    4\n",
              "692    2\n",
              "693    2\n",
              "694    3\n",
              "695    2\n",
              "696    6\n",
              "697    3\n",
              "698    4\n",
              "Name: Single Epithelial Cell Size, Length: 691, dtype: int64>"
            ]
          },
          "metadata": {},
          "execution_count": 139
        }
      ]
    },
    {
      "cell_type": "code",
      "metadata": {
        "colab": {
          "base_uri": "https://localhost:8080/",
          "height": 386
        },
        "id": "cVUE3cZp2GI0",
        "outputId": "0172530e-aa56-4c9c-f6a5-d16e49dbbda6"
      },
      "source": [
        "pd.crosstab(df['Normal Nucleoli'],df['Class'])"
      ],
      "execution_count": null,
      "outputs": [
        {
          "output_type": "execute_result",
          "data": {
            "text/plain": [
              "Class              2   4\n",
              "Normal Nucleoli         \n",
              "1                149   2\n",
              "2                158   7\n",
              "3                126  35\n",
              "4                  8  32\n",
              "5                  4  30\n",
              "6                  1   9\n",
              "7                  7  64\n",
              "8                  0  28\n",
              "9                  0  11\n",
              "10                 0  20"
            ],
            "text/html": [
              "<div>\n",
              "<style scoped>\n",
              "    .dataframe tbody tr th:only-of-type {\n",
              "        vertical-align: middle;\n",
              "    }\n",
              "\n",
              "    .dataframe tbody tr th {\n",
              "        vertical-align: top;\n",
              "    }\n",
              "\n",
              "    .dataframe thead th {\n",
              "        text-align: right;\n",
              "    }\n",
              "</style>\n",
              "<table border=\"1\" class=\"dataframe\">\n",
              "  <thead>\n",
              "    <tr style=\"text-align: right;\">\n",
              "      <th>Class</th>\n",
              "      <th>2</th>\n",
              "      <th>4</th>\n",
              "    </tr>\n",
              "    <tr>\n",
              "      <th>Normal Nucleoli</th>\n",
              "      <th></th>\n",
              "      <th></th>\n",
              "    </tr>\n",
              "  </thead>\n",
              "  <tbody>\n",
              "    <tr>\n",
              "      <th>1</th>\n",
              "      <td>149</td>\n",
              "      <td>2</td>\n",
              "    </tr>\n",
              "    <tr>\n",
              "      <th>2</th>\n",
              "      <td>158</td>\n",
              "      <td>7</td>\n",
              "    </tr>\n",
              "    <tr>\n",
              "      <th>3</th>\n",
              "      <td>126</td>\n",
              "      <td>35</td>\n",
              "    </tr>\n",
              "    <tr>\n",
              "      <th>4</th>\n",
              "      <td>8</td>\n",
              "      <td>32</td>\n",
              "    </tr>\n",
              "    <tr>\n",
              "      <th>5</th>\n",
              "      <td>4</td>\n",
              "      <td>30</td>\n",
              "    </tr>\n",
              "    <tr>\n",
              "      <th>6</th>\n",
              "      <td>1</td>\n",
              "      <td>9</td>\n",
              "    </tr>\n",
              "    <tr>\n",
              "      <th>7</th>\n",
              "      <td>7</td>\n",
              "      <td>64</td>\n",
              "    </tr>\n",
              "    <tr>\n",
              "      <th>8</th>\n",
              "      <td>0</td>\n",
              "      <td>28</td>\n",
              "    </tr>\n",
              "    <tr>\n",
              "      <th>9</th>\n",
              "      <td>0</td>\n",
              "      <td>11</td>\n",
              "    </tr>\n",
              "    <tr>\n",
              "      <th>10</th>\n",
              "      <td>0</td>\n",
              "      <td>20</td>\n",
              "    </tr>\n",
              "  </tbody>\n",
              "</table>\n",
              "</div>"
            ]
          },
          "metadata": {},
          "execution_count": 146
        }
      ]
    },
    {
      "cell_type": "code",
      "metadata": {
        "colab": {
          "base_uri": "https://localhost:8080/",
          "height": 202
        },
        "id": "00tos8Kh0yVZ",
        "outputId": "c90762c3-c3ec-4036-e795-b4f7d3193a64"
      },
      "source": [
        "pd.crosstab(df['Bland Chromatin'],df['Class'])"
      ],
      "execution_count": null,
      "outputs": [
        {
          "output_type": "execute_result",
          "data": {
            "text/plain": [
              "Class              2    4\n",
              "Bland Chromatin          \n",
              "1                397   40\n",
              "2                 30    6\n",
              "3                 12   30\n",
              "4                 14  162"
            ],
            "text/html": [
              "<div>\n",
              "<style scoped>\n",
              "    .dataframe tbody tr th:only-of-type {\n",
              "        vertical-align: middle;\n",
              "    }\n",
              "\n",
              "    .dataframe tbody tr th {\n",
              "        vertical-align: top;\n",
              "    }\n",
              "\n",
              "    .dataframe thead th {\n",
              "        text-align: right;\n",
              "    }\n",
              "</style>\n",
              "<table border=\"1\" class=\"dataframe\">\n",
              "  <thead>\n",
              "    <tr style=\"text-align: right;\">\n",
              "      <th>Class</th>\n",
              "      <th>2</th>\n",
              "      <th>4</th>\n",
              "    </tr>\n",
              "    <tr>\n",
              "      <th>Bland Chromatin</th>\n",
              "      <th></th>\n",
              "      <th></th>\n",
              "    </tr>\n",
              "  </thead>\n",
              "  <tbody>\n",
              "    <tr>\n",
              "      <th>1</th>\n",
              "      <td>397</td>\n",
              "      <td>40</td>\n",
              "    </tr>\n",
              "    <tr>\n",
              "      <th>2</th>\n",
              "      <td>30</td>\n",
              "      <td>6</td>\n",
              "    </tr>\n",
              "    <tr>\n",
              "      <th>3</th>\n",
              "      <td>12</td>\n",
              "      <td>30</td>\n",
              "    </tr>\n",
              "    <tr>\n",
              "      <th>4</th>\n",
              "      <td>14</td>\n",
              "      <td>162</td>\n",
              "    </tr>\n",
              "  </tbody>\n",
              "</table>\n",
              "</div>"
            ]
          },
          "metadata": {},
          "execution_count": 147
        }
      ]
    },
    {
      "cell_type": "code",
      "metadata": {
        "id": "lnWKMdvc1EdE"
      },
      "source": [
        "df['Bland Chromatin']=np.where(df['Bland Chromatin']> 6,6,df['Bland Chromatin'])"
      ],
      "execution_count": null,
      "outputs": []
    },
    {
      "cell_type": "code",
      "metadata": {
        "colab": {
          "base_uri": "https://localhost:8080/"
        },
        "id": "PbHz3l8N1QOT",
        "outputId": "82dc9470-c80d-4b2f-d55a-53fee8e1fbce"
      },
      "source": [
        "df['Bland Chromatin'].value_counts"
      ],
      "execution_count": null,
      "outputs": [
        {
          "output_type": "execute_result",
          "data": {
            "text/plain": [
              "<bound method Series.value_counts of 0      1\n",
              "1      2\n",
              "2      1\n",
              "3      4\n",
              "4      1\n",
              "5      4\n",
              "6      1\n",
              "7      1\n",
              "8      1\n",
              "9      1\n",
              "10     1\n",
              "11     1\n",
              "12     4\n",
              "13     1\n",
              "14     4\n",
              "15     3\n",
              "16     1\n",
              "17     1\n",
              "18     1\n",
              "19     1\n",
              "20     4\n",
              "21     4\n",
              "22     1\n",
              "23     3\n",
              "24     1\n",
              "25     4\n",
              "26     1\n",
              "27     1\n",
              "28     1\n",
              "29     1\n",
              "      ..\n",
              "668    4\n",
              "669    4\n",
              "670    4\n",
              "671    1\n",
              "672    1\n",
              "673    1\n",
              "674    1\n",
              "675    1\n",
              "676    1\n",
              "677    1\n",
              "678    1\n",
              "679    1\n",
              "680    4\n",
              "681    4\n",
              "682    2\n",
              "683    1\n",
              "685    1\n",
              "686    1\n",
              "687    3\n",
              "688    1\n",
              "689    1\n",
              "690    1\n",
              "691    4\n",
              "692    1\n",
              "693    1\n",
              "694    1\n",
              "695    1\n",
              "696    4\n",
              "697    4\n",
              "698    4\n",
              "Name: Bland Chromatin, Length: 691, dtype: int64>"
            ]
          },
          "metadata": {},
          "execution_count": 156
        }
      ]
    },
    {
      "cell_type": "code",
      "metadata": {
        "colab": {
          "base_uri": "https://localhost:8080/",
          "height": 202
        },
        "id": "Cauq_vZD1ZVp",
        "outputId": "cf525079-fdae-4546-f9c7-eee497a37f08"
      },
      "source": [
        "pd.crosstab(df['Bland Chromatin'],df['Class'])"
      ],
      "execution_count": null,
      "outputs": [
        {
          "output_type": "execute_result",
          "data": {
            "text/plain": [
              "Class              2    4\n",
              "Bland Chromatin          \n",
              "1                397   40\n",
              "2                 30    6\n",
              "3                 12   30\n",
              "4                 14  162"
            ],
            "text/html": [
              "<div>\n",
              "<style scoped>\n",
              "    .dataframe tbody tr th:only-of-type {\n",
              "        vertical-align: middle;\n",
              "    }\n",
              "\n",
              "    .dataframe tbody tr th {\n",
              "        vertical-align: top;\n",
              "    }\n",
              "\n",
              "    .dataframe thead th {\n",
              "        text-align: right;\n",
              "    }\n",
              "</style>\n",
              "<table border=\"1\" class=\"dataframe\">\n",
              "  <thead>\n",
              "    <tr style=\"text-align: right;\">\n",
              "      <th>Class</th>\n",
              "      <th>2</th>\n",
              "      <th>4</th>\n",
              "    </tr>\n",
              "    <tr>\n",
              "      <th>Bland Chromatin</th>\n",
              "      <th></th>\n",
              "      <th></th>\n",
              "    </tr>\n",
              "  </thead>\n",
              "  <tbody>\n",
              "    <tr>\n",
              "      <th>1</th>\n",
              "      <td>397</td>\n",
              "      <td>40</td>\n",
              "    </tr>\n",
              "    <tr>\n",
              "      <th>2</th>\n",
              "      <td>30</td>\n",
              "      <td>6</td>\n",
              "    </tr>\n",
              "    <tr>\n",
              "      <th>3</th>\n",
              "      <td>12</td>\n",
              "      <td>30</td>\n",
              "    </tr>\n",
              "    <tr>\n",
              "      <th>4</th>\n",
              "      <td>14</td>\n",
              "      <td>162</td>\n",
              "    </tr>\n",
              "  </tbody>\n",
              "</table>\n",
              "</div>"
            ]
          },
          "metadata": {},
          "execution_count": 157
        }
      ]
    },
    {
      "cell_type": "code",
      "metadata": {
        "id": "yorsGTcR2p6J"
      },
      "source": [
        "df['Normal Nucleoli']=np.where(df['Normal Nucleoli']> 7,7,df['Normal Nucleoli'])"
      ],
      "execution_count": null,
      "outputs": []
    },
    {
      "cell_type": "code",
      "metadata": {
        "colab": {
          "base_uri": "https://localhost:8080/",
          "height": 294
        },
        "id": "Q6yRnyPe28wZ",
        "outputId": "03f72cf5-ebf8-4a5d-dcef-518fcaf49200"
      },
      "source": [
        "pd.crosstab(df['Normal Nucleoli'],df['Class'])"
      ],
      "execution_count": null,
      "outputs": [
        {
          "output_type": "execute_result",
          "data": {
            "text/plain": [
              "Class              2    4\n",
              "Normal Nucleoli          \n",
              "1                149    2\n",
              "2                158    7\n",
              "3                126   35\n",
              "4                  8   32\n",
              "5                  4   30\n",
              "6                  1    9\n",
              "7                  7  123"
            ],
            "text/html": [
              "<div>\n",
              "<style scoped>\n",
              "    .dataframe tbody tr th:only-of-type {\n",
              "        vertical-align: middle;\n",
              "    }\n",
              "\n",
              "    .dataframe tbody tr th {\n",
              "        vertical-align: top;\n",
              "    }\n",
              "\n",
              "    .dataframe thead th {\n",
              "        text-align: right;\n",
              "    }\n",
              "</style>\n",
              "<table border=\"1\" class=\"dataframe\">\n",
              "  <thead>\n",
              "    <tr style=\"text-align: right;\">\n",
              "      <th>Class</th>\n",
              "      <th>2</th>\n",
              "      <th>4</th>\n",
              "    </tr>\n",
              "    <tr>\n",
              "      <th>Normal Nucleoli</th>\n",
              "      <th></th>\n",
              "      <th></th>\n",
              "    </tr>\n",
              "  </thead>\n",
              "  <tbody>\n",
              "    <tr>\n",
              "      <th>1</th>\n",
              "      <td>149</td>\n",
              "      <td>2</td>\n",
              "    </tr>\n",
              "    <tr>\n",
              "      <th>2</th>\n",
              "      <td>158</td>\n",
              "      <td>7</td>\n",
              "    </tr>\n",
              "    <tr>\n",
              "      <th>3</th>\n",
              "      <td>126</td>\n",
              "      <td>35</td>\n",
              "    </tr>\n",
              "    <tr>\n",
              "      <th>4</th>\n",
              "      <td>8</td>\n",
              "      <td>32</td>\n",
              "    </tr>\n",
              "    <tr>\n",
              "      <th>5</th>\n",
              "      <td>4</td>\n",
              "      <td>30</td>\n",
              "    </tr>\n",
              "    <tr>\n",
              "      <th>6</th>\n",
              "      <td>1</td>\n",
              "      <td>9</td>\n",
              "    </tr>\n",
              "    <tr>\n",
              "      <th>7</th>\n",
              "      <td>7</td>\n",
              "      <td>123</td>\n",
              "    </tr>\n",
              "  </tbody>\n",
              "</table>\n",
              "</div>"
            ]
          },
          "metadata": {},
          "execution_count": 159
        }
      ]
    },
    {
      "cell_type": "code",
      "metadata": {
        "id": "aHjAnxb23kEs"
      },
      "source": [
        "df['Mitoses']=np.where(df['Mitoses']> 6,6,df['Mitoses'])"
      ],
      "execution_count": null,
      "outputs": []
    },
    {
      "cell_type": "code",
      "metadata": {
        "colab": {
          "base_uri": "https://localhost:8080/",
          "height": 263
        },
        "id": "1fJOLtNl3ar1",
        "outputId": "46ca245e-1c84-4817-8df1-ca941a3564a3"
      },
      "source": [
        "pd.crosstab(df['Mitoses'],df['Class'])"
      ],
      "execution_count": null,
      "outputs": [
        {
          "output_type": "execute_result",
          "data": {
            "text/plain": [
              "Class      2    4\n",
              "Mitoses          \n",
              "1        440  132\n",
              "2          8   27\n",
              "3          2   30\n",
              "4          0   12\n",
              "5          1    5\n",
              "6          2   32"
            ],
            "text/html": [
              "<div>\n",
              "<style scoped>\n",
              "    .dataframe tbody tr th:only-of-type {\n",
              "        vertical-align: middle;\n",
              "    }\n",
              "\n",
              "    .dataframe tbody tr th {\n",
              "        vertical-align: top;\n",
              "    }\n",
              "\n",
              "    .dataframe thead th {\n",
              "        text-align: right;\n",
              "    }\n",
              "</style>\n",
              "<table border=\"1\" class=\"dataframe\">\n",
              "  <thead>\n",
              "    <tr style=\"text-align: right;\">\n",
              "      <th>Class</th>\n",
              "      <th>2</th>\n",
              "      <th>4</th>\n",
              "    </tr>\n",
              "    <tr>\n",
              "      <th>Mitoses</th>\n",
              "      <th></th>\n",
              "      <th></th>\n",
              "    </tr>\n",
              "  </thead>\n",
              "  <tbody>\n",
              "    <tr>\n",
              "      <th>1</th>\n",
              "      <td>440</td>\n",
              "      <td>132</td>\n",
              "    </tr>\n",
              "    <tr>\n",
              "      <th>2</th>\n",
              "      <td>8</td>\n",
              "      <td>27</td>\n",
              "    </tr>\n",
              "    <tr>\n",
              "      <th>3</th>\n",
              "      <td>2</td>\n",
              "      <td>30</td>\n",
              "    </tr>\n",
              "    <tr>\n",
              "      <th>4</th>\n",
              "      <td>0</td>\n",
              "      <td>12</td>\n",
              "    </tr>\n",
              "    <tr>\n",
              "      <th>5</th>\n",
              "      <td>1</td>\n",
              "      <td>5</td>\n",
              "    </tr>\n",
              "    <tr>\n",
              "      <th>6</th>\n",
              "      <td>2</td>\n",
              "      <td>32</td>\n",
              "    </tr>\n",
              "  </tbody>\n",
              "</table>\n",
              "</div>"
            ]
          },
          "metadata": {},
          "execution_count": 163
        }
      ]
    },
    {
      "cell_type": "code",
      "metadata": {
        "colab": {
          "base_uri": "https://localhost:8080/"
        },
        "id": "SAw3N3CbAsj5",
        "outputId": "d4dfddcd-3a60-43b0-fe30-dbb5451c3028"
      },
      "source": [
        "np.mean(df),np.std(df)\n"
      ],
      "execution_count": null,
      "outputs": [
        {
          "output_type": "execute_result",
          "data": {
            "text/plain": [
              "(ClumpThickness                 4.426918\n",
              " Cell Size                      3.130246\n",
              " Cell Shape                     3.201158\n",
              " Marginal Adhesion              2.013025\n",
              " Single Epithelial Cell Size    2.953690\n",
              " Bare Nuclei                    3.479016\n",
              " Normal Nucleoli                3.276411\n",
              " Bland Chromatin                1.937771\n",
              " Mitoses                        1.476122\n",
              " Class                          2.688857\n",
              " dtype: float64, ClumpThickness                 2.813822\n",
              " Cell Size                      3.039127\n",
              " Cell Shape                     2.957744\n",
              " Marginal Adhesion              1.297266\n",
              " Single Epithelial Cell Size    1.573348\n",
              " Bare Nuclei                    3.613058\n",
              " Normal Nucleoli                2.105126\n",
              " Bland Chromatin                1.306958\n",
              " Mitoses                        1.238759\n",
              " Class                          0.950363\n",
              " dtype: float64)"
            ]
          },
          "metadata": {},
          "execution_count": 180
        }
      ]
    },
    {
      "cell_type": "code",
      "metadata": {
        "id": "CN5wVmXCBj0E"
      },
      "source": [
        "from sklearn.preprocessing import StandardScaler\n",
        "#x = df.loc[:, features].values\n",
        "x = StandardScaler().fit_transform(df) # normalizing the features"
      ],
      "execution_count": null,
      "outputs": []
    },
    {
      "cell_type": "code",
      "metadata": {
        "colab": {
          "base_uri": "https://localhost:8080/"
        },
        "id": "R0ESEsvQBrmr",
        "outputId": "ca1e702e-cbd3-47a8-c271-a2e91353576e"
      },
      "source": [
        "df.shape"
      ],
      "execution_count": null,
      "outputs": [
        {
          "output_type": "execute_result",
          "data": {
            "text/plain": [
              "(691, 10)"
            ]
          },
          "metadata": {},
          "execution_count": 184
        }
      ]
    },
    {
      "cell_type": "code",
      "metadata": {
        "colab": {
          "base_uri": "https://localhost:8080/"
        },
        "id": "qVQ70eAIB0gp",
        "outputId": "b5c3304c-e7e0-4a27-ce6a-3cea1fa0e334"
      },
      "source": [
        "np.mean(x),np.std(x)"
      ],
      "execution_count": null,
      "outputs": [
        {
          "output_type": "execute_result",
          "data": {
            "text/plain": [
              "(1.2339381807700727e-17, 1.0)"
            ]
          },
          "metadata": {},
          "execution_count": 185
        }
      ]
    },
    {
      "cell_type": "code",
      "metadata": {
        "colab": {
          "base_uri": "https://localhost:8080/"
        },
        "id": "u7rJBYEd2dmc",
        "outputId": "3f686b7f-3a1a-4585-bfff-a1b12346df5a"
      },
      "source": [
        "vectors[:5]"
      ],
      "execution_count": null,
      "outputs": [
        {
          "output_type": "execute_result",
          "data": {
            "text/plain": [
              "array([[-0.28580494,  0.06891619, -0.89019595,  0.02470554, -0.16249791,\n",
              "        -0.13415544, -0.18587503, -0.11573112, -0.1676236 , -0.00792202],\n",
              "       [-0.34770106, -0.00710221,  0.09830921,  0.74118379, -0.01046748,\n",
              "        -0.34205559,  0.30577297, -0.05248495,  0.17129583, -0.27808233],\n",
              "       [-0.34505543,  0.02344786,  0.03661688, -0.65066713, -0.17359549,\n",
              "        -0.3113311 ,  0.4543114 ,  0.02790767,  0.21498549, -0.27426181],\n",
              "       [-0.31382678,  0.16161752,  0.22851565, -0.04324253,  0.00098766,\n",
              "         0.36330101, -0.00284966, -0.40730822, -0.60716802, -0.3933872 ],\n",
              "       [-0.3230009 , -0.0619035 ,  0.27215417, -0.07242321, -0.03047021,\n",
              "        -0.36026684, -0.68685883,  0.41079525, -0.1273411 , -0.15830723]])"
            ]
          },
          "metadata": {},
          "execution_count": 186
        }
      ]
    },
    {
      "cell_type": "code",
      "metadata": {
        "id": "TJXmAgkI_kfM"
      },
      "source": [
        "feat_cols = ['feature'+str(i) for i in range(x.shape[1])]"
      ],
      "execution_count": null,
      "outputs": []
    },
    {
      "cell_type": "code",
      "metadata": {
        "id": "XxcEjns8_rGy"
      },
      "source": [
        "normalised_cancer = pd.DataFrame(x,columns=feat_cols)"
      ],
      "execution_count": null,
      "outputs": []
    },
    {
      "cell_type": "code",
      "metadata": {
        "colab": {
          "base_uri": "https://localhost:8080/",
          "height": 202
        },
        "id": "A_wtbJnACYxp",
        "outputId": "51739eb6-f8c4-4b6e-e0d4-25aeda343e89"
      },
      "source": [
        "normalised_cancer.head()"
      ],
      "execution_count": null,
      "outputs": [
        {
          "output_type": "execute_result",
          "data": {
            "text/plain": [
              "   feature0  feature1  feature2  feature3  feature4  feature5  feature6  \\\n",
              "0  0.203667 -0.700940 -0.744202 -0.780892 -0.606153 -0.686127 -0.131304   \n",
              "1  0.203667  0.286185  0.270085  1.531664  1.936196  1.804838 -0.131304   \n",
              "2 -0.507110 -0.700940 -0.744202 -0.780892 -0.606153 -0.409353 -0.131304   \n",
              "3  0.559055  1.602353  1.622467 -0.780892  0.029434  0.144195 -0.131304   \n",
              "4 -0.151722 -0.700940 -0.744202  0.760812 -0.606153 -0.686127 -0.131304   \n",
              "\n",
              "   feature7  feature8  feature9  \n",
              "0 -0.717522 -0.384354 -0.724835  \n",
              "1  0.047613 -0.384354 -0.724835  \n",
              "2 -0.717522 -0.384354 -0.724835  \n",
              "3  1.577884 -0.384354 -0.724835  \n",
              "4 -0.717522 -0.384354 -0.724835  "
            ],
            "text/html": [
              "<div>\n",
              "<style scoped>\n",
              "    .dataframe tbody tr th:only-of-type {\n",
              "        vertical-align: middle;\n",
              "    }\n",
              "\n",
              "    .dataframe tbody tr th {\n",
              "        vertical-align: top;\n",
              "    }\n",
              "\n",
              "    .dataframe thead th {\n",
              "        text-align: right;\n",
              "    }\n",
              "</style>\n",
              "<table border=\"1\" class=\"dataframe\">\n",
              "  <thead>\n",
              "    <tr style=\"text-align: right;\">\n",
              "      <th></th>\n",
              "      <th>feature0</th>\n",
              "      <th>feature1</th>\n",
              "      <th>feature2</th>\n",
              "      <th>feature3</th>\n",
              "      <th>feature4</th>\n",
              "      <th>feature5</th>\n",
              "      <th>feature6</th>\n",
              "      <th>feature7</th>\n",
              "      <th>feature8</th>\n",
              "      <th>feature9</th>\n",
              "    </tr>\n",
              "  </thead>\n",
              "  <tbody>\n",
              "    <tr>\n",
              "      <th>0</th>\n",
              "      <td>0.203667</td>\n",
              "      <td>-0.700940</td>\n",
              "      <td>-0.744202</td>\n",
              "      <td>-0.780892</td>\n",
              "      <td>-0.606153</td>\n",
              "      <td>-0.686127</td>\n",
              "      <td>-0.131304</td>\n",
              "      <td>-0.717522</td>\n",
              "      <td>-0.384354</td>\n",
              "      <td>-0.724835</td>\n",
              "    </tr>\n",
              "    <tr>\n",
              "      <th>1</th>\n",
              "      <td>0.203667</td>\n",
              "      <td>0.286185</td>\n",
              "      <td>0.270085</td>\n",
              "      <td>1.531664</td>\n",
              "      <td>1.936196</td>\n",
              "      <td>1.804838</td>\n",
              "      <td>-0.131304</td>\n",
              "      <td>0.047613</td>\n",
              "      <td>-0.384354</td>\n",
              "      <td>-0.724835</td>\n",
              "    </tr>\n",
              "    <tr>\n",
              "      <th>2</th>\n",
              "      <td>-0.507110</td>\n",
              "      <td>-0.700940</td>\n",
              "      <td>-0.744202</td>\n",
              "      <td>-0.780892</td>\n",
              "      <td>-0.606153</td>\n",
              "      <td>-0.409353</td>\n",
              "      <td>-0.131304</td>\n",
              "      <td>-0.717522</td>\n",
              "      <td>-0.384354</td>\n",
              "      <td>-0.724835</td>\n",
              "    </tr>\n",
              "    <tr>\n",
              "      <th>3</th>\n",
              "      <td>0.559055</td>\n",
              "      <td>1.602353</td>\n",
              "      <td>1.622467</td>\n",
              "      <td>-0.780892</td>\n",
              "      <td>0.029434</td>\n",
              "      <td>0.144195</td>\n",
              "      <td>-0.131304</td>\n",
              "      <td>1.577884</td>\n",
              "      <td>-0.384354</td>\n",
              "      <td>-0.724835</td>\n",
              "    </tr>\n",
              "    <tr>\n",
              "      <th>4</th>\n",
              "      <td>-0.151722</td>\n",
              "      <td>-0.700940</td>\n",
              "      <td>-0.744202</td>\n",
              "      <td>0.760812</td>\n",
              "      <td>-0.606153</td>\n",
              "      <td>-0.686127</td>\n",
              "      <td>-0.131304</td>\n",
              "      <td>-0.717522</td>\n",
              "      <td>-0.384354</td>\n",
              "      <td>-0.724835</td>\n",
              "    </tr>\n",
              "  </tbody>\n",
              "</table>\n",
              "</div>"
            ]
          },
          "metadata": {},
          "execution_count": 189
        }
      ]
    },
    {
      "cell_type": "code",
      "metadata": {
        "colab": {
          "base_uri": "https://localhost:8080/",
          "height": 202
        },
        "id": "59zddpc7CfJo",
        "outputId": "0a47f836-2b1c-459a-935e-104a55f73d32"
      },
      "source": [
        "normalised_cancer.tail()"
      ],
      "execution_count": null,
      "outputs": [
        {
          "output_type": "execute_result",
          "data": {
            "text/plain": [
              "     feature0  feature1  feature2  feature3  feature4  feature5  feature6  \\\n",
              "686 -0.507110 -0.700940 -0.744202 -0.780892  0.029434 -0.409353 -1.081366   \n",
              "687 -0.862498 -0.700940 -0.744202 -0.780892 -0.606153 -0.686127 -1.081366   \n",
              "688  0.203667  2.260437  2.298658  0.760812  1.936196 -0.132579  1.768820   \n",
              "689 -0.151722  1.602353  0.946276  1.531664  0.029434  0.144195  1.768820   \n",
              "690 -0.151722  1.602353  1.622467  1.531664  0.665021  0.420969  1.768820   \n",
              "\n",
              "     feature7  feature8  feature9  \n",
              "686 -0.717522 -0.384354 -0.724835  \n",
              "687 -0.717522 -0.384354 -0.724835  \n",
              "688  1.577884  0.422906  1.379624  \n",
              "689  1.577884 -0.384354  1.379624  \n",
              "690  1.577884 -0.384354  1.379624  "
            ],
            "text/html": [
              "<div>\n",
              "<style scoped>\n",
              "    .dataframe tbody tr th:only-of-type {\n",
              "        vertical-align: middle;\n",
              "    }\n",
              "\n",
              "    .dataframe tbody tr th {\n",
              "        vertical-align: top;\n",
              "    }\n",
              "\n",
              "    .dataframe thead th {\n",
              "        text-align: right;\n",
              "    }\n",
              "</style>\n",
              "<table border=\"1\" class=\"dataframe\">\n",
              "  <thead>\n",
              "    <tr style=\"text-align: right;\">\n",
              "      <th></th>\n",
              "      <th>feature0</th>\n",
              "      <th>feature1</th>\n",
              "      <th>feature2</th>\n",
              "      <th>feature3</th>\n",
              "      <th>feature4</th>\n",
              "      <th>feature5</th>\n",
              "      <th>feature6</th>\n",
              "      <th>feature7</th>\n",
              "      <th>feature8</th>\n",
              "      <th>feature9</th>\n",
              "    </tr>\n",
              "  </thead>\n",
              "  <tbody>\n",
              "    <tr>\n",
              "      <th>686</th>\n",
              "      <td>-0.507110</td>\n",
              "      <td>-0.700940</td>\n",
              "      <td>-0.744202</td>\n",
              "      <td>-0.780892</td>\n",
              "      <td>0.029434</td>\n",
              "      <td>-0.409353</td>\n",
              "      <td>-1.081366</td>\n",
              "      <td>-0.717522</td>\n",
              "      <td>-0.384354</td>\n",
              "      <td>-0.724835</td>\n",
              "    </tr>\n",
              "    <tr>\n",
              "      <th>687</th>\n",
              "      <td>-0.862498</td>\n",
              "      <td>-0.700940</td>\n",
              "      <td>-0.744202</td>\n",
              "      <td>-0.780892</td>\n",
              "      <td>-0.606153</td>\n",
              "      <td>-0.686127</td>\n",
              "      <td>-1.081366</td>\n",
              "      <td>-0.717522</td>\n",
              "      <td>-0.384354</td>\n",
              "      <td>-0.724835</td>\n",
              "    </tr>\n",
              "    <tr>\n",
              "      <th>688</th>\n",
              "      <td>0.203667</td>\n",
              "      <td>2.260437</td>\n",
              "      <td>2.298658</td>\n",
              "      <td>0.760812</td>\n",
              "      <td>1.936196</td>\n",
              "      <td>-0.132579</td>\n",
              "      <td>1.768820</td>\n",
              "      <td>1.577884</td>\n",
              "      <td>0.422906</td>\n",
              "      <td>1.379624</td>\n",
              "    </tr>\n",
              "    <tr>\n",
              "      <th>689</th>\n",
              "      <td>-0.151722</td>\n",
              "      <td>1.602353</td>\n",
              "      <td>0.946276</td>\n",
              "      <td>1.531664</td>\n",
              "      <td>0.029434</td>\n",
              "      <td>0.144195</td>\n",
              "      <td>1.768820</td>\n",
              "      <td>1.577884</td>\n",
              "      <td>-0.384354</td>\n",
              "      <td>1.379624</td>\n",
              "    </tr>\n",
              "    <tr>\n",
              "      <th>690</th>\n",
              "      <td>-0.151722</td>\n",
              "      <td>1.602353</td>\n",
              "      <td>1.622467</td>\n",
              "      <td>1.531664</td>\n",
              "      <td>0.665021</td>\n",
              "      <td>0.420969</td>\n",
              "      <td>1.768820</td>\n",
              "      <td>1.577884</td>\n",
              "      <td>-0.384354</td>\n",
              "      <td>1.379624</td>\n",
              "    </tr>\n",
              "  </tbody>\n",
              "</table>\n",
              "</div>"
            ]
          },
          "metadata": {},
          "execution_count": 190
        }
      ]
    },
    {
      "cell_type": "code",
      "metadata": {
        "id": "V31_gLG9CrFG"
      },
      "source": [
        "from sklearn.decomposition import PCA\n",
        "pca_cancer = PCA(n_components=2)\n",
        "principalComponents_cancer = pca_cancer.fit_transform(x)"
      ],
      "execution_count": null,
      "outputs": []
    },
    {
      "cell_type": "code",
      "metadata": {
        "id": "88B5OtV2C63M"
      },
      "source": [
        "principal_cancer_Df = pd.DataFrame(data = principalComponents_cancer\n",
        "             , columns = ['principal component 1', 'principal component 2'])"
      ],
      "execution_count": null,
      "outputs": []
    },
    {
      "cell_type": "code",
      "metadata": {
        "colab": {
          "base_uri": "https://localhost:8080/",
          "height": 202
        },
        "id": "JPET4ZaFDFem",
        "outputId": "51854341-7a74-4cb6-8ae8-4daf015a2727"
      },
      "source": [
        "principal_cancer_Df.tail()"
      ],
      "execution_count": null,
      "outputs": [
        {
          "output_type": "execute_result",
          "data": {
            "text/plain": [
              "     principal component 1  principal component 2\n",
              "686              -1.924661               0.146994\n",
              "687              -2.319296               0.177588\n",
              "688               4.107692              -0.094816\n",
              "689               2.852409              -1.096110\n",
              "690               3.378795              -1.118067"
            ],
            "text/html": [
              "<div>\n",
              "<style scoped>\n",
              "    .dataframe tbody tr th:only-of-type {\n",
              "        vertical-align: middle;\n",
              "    }\n",
              "\n",
              "    .dataframe tbody tr th {\n",
              "        vertical-align: top;\n",
              "    }\n",
              "\n",
              "    .dataframe thead th {\n",
              "        text-align: right;\n",
              "    }\n",
              "</style>\n",
              "<table border=\"1\" class=\"dataframe\">\n",
              "  <thead>\n",
              "    <tr style=\"text-align: right;\">\n",
              "      <th></th>\n",
              "      <th>principal component 1</th>\n",
              "      <th>principal component 2</th>\n",
              "    </tr>\n",
              "  </thead>\n",
              "  <tbody>\n",
              "    <tr>\n",
              "      <th>686</th>\n",
              "      <td>-1.924661</td>\n",
              "      <td>0.146994</td>\n",
              "    </tr>\n",
              "    <tr>\n",
              "      <th>687</th>\n",
              "      <td>-2.319296</td>\n",
              "      <td>0.177588</td>\n",
              "    </tr>\n",
              "    <tr>\n",
              "      <th>688</th>\n",
              "      <td>4.107692</td>\n",
              "      <td>-0.094816</td>\n",
              "    </tr>\n",
              "    <tr>\n",
              "      <th>689</th>\n",
              "      <td>2.852409</td>\n",
              "      <td>-1.096110</td>\n",
              "    </tr>\n",
              "    <tr>\n",
              "      <th>690</th>\n",
              "      <td>3.378795</td>\n",
              "      <td>-1.118067</td>\n",
              "    </tr>\n",
              "  </tbody>\n",
              "</table>\n",
              "</div>"
            ]
          },
          "metadata": {},
          "execution_count": 194
        }
      ]
    },
    {
      "cell_type": "code",
      "metadata": {
        "colab": {
          "base_uri": "https://localhost:8080/"
        },
        "id": "EZkAPyXXDPDZ",
        "outputId": "2b6e2777-554b-48e6-e139-30dbee5a86ef"
      },
      "source": [
        "print('Explained variation per principal component: {}'.format(pca_cancer.explained_variance_ratio_))"
      ],
      "execution_count": null,
      "outputs": [
        {
          "output_type": "stream",
          "name": "stdout",
          "text": [
            "Explained variation per principal component: [0.69176199 0.07390615]\n"
          ]
        }
      ]
    },
    {
      "cell_type": "code",
      "metadata": {
        "colab": {
          "base_uri": "https://localhost:8080/"
        },
        "id": "6lQfgoRqGEBm",
        "outputId": "36e2dbd8-ca09-4571-ad39-03cf0120667e"
      },
      "source": [
        "print principal_cancer_Df.info()"
      ],
      "execution_count": null,
      "outputs": [
        {
          "output_type": "stream",
          "name": "stdout",
          "text": [
            "<class 'pandas.core.frame.DataFrame'>\n",
            "RangeIndex: 691 entries, 0 to 690\n",
            "Data columns (total 2 columns):\n",
            "principal component 1    691 non-null float64\n",
            "principal component 2    691 non-null float64\n",
            "dtypes: float64(2)\n",
            "memory usage: 10.9 KB\n",
            "None\n"
          ]
        }
      ]
    },
    {
      "cell_type": "code",
      "metadata": {
        "colab": {
          "base_uri": "https://localhost:8080/",
          "height": 294
        },
        "id": "POwFwUsfDkgo",
        "outputId": "b11c4a41-4064-4f0e-bc36-ae39917035fb"
      },
      "source": [
        "principal_cancer_Df.describe()"
      ],
      "execution_count": null,
      "outputs": [
        {
          "output_type": "execute_result",
          "data": {
            "text/plain": [
              "       principal component 1  principal component 2\n",
              "count           6.910000e+02           6.910000e+02\n",
              "mean           -1.233938e-16          -2.827775e-17\n",
              "std             2.632042e+00           8.603096e-01\n",
              "min            -2.626163e+00          -1.542780e+00\n",
              "25%            -2.065283e+00          -2.897094e-01\n",
              "50%            -1.608128e+00           2.817519e-02\n",
              "75%             2.602667e+00           1.286038e-01\n",
              "max             6.160015e+00           4.025863e+00"
            ],
            "text/html": [
              "<div>\n",
              "<style scoped>\n",
              "    .dataframe tbody tr th:only-of-type {\n",
              "        vertical-align: middle;\n",
              "    }\n",
              "\n",
              "    .dataframe tbody tr th {\n",
              "        vertical-align: top;\n",
              "    }\n",
              "\n",
              "    .dataframe thead th {\n",
              "        text-align: right;\n",
              "    }\n",
              "</style>\n",
              "<table border=\"1\" class=\"dataframe\">\n",
              "  <thead>\n",
              "    <tr style=\"text-align: right;\">\n",
              "      <th></th>\n",
              "      <th>principal component 1</th>\n",
              "      <th>principal component 2</th>\n",
              "    </tr>\n",
              "  </thead>\n",
              "  <tbody>\n",
              "    <tr>\n",
              "      <th>count</th>\n",
              "      <td>6.910000e+02</td>\n",
              "      <td>6.910000e+02</td>\n",
              "    </tr>\n",
              "    <tr>\n",
              "      <th>mean</th>\n",
              "      <td>-1.233938e-16</td>\n",
              "      <td>-2.827775e-17</td>\n",
              "    </tr>\n",
              "    <tr>\n",
              "      <th>std</th>\n",
              "      <td>2.632042e+00</td>\n",
              "      <td>8.603096e-01</td>\n",
              "    </tr>\n",
              "    <tr>\n",
              "      <th>min</th>\n",
              "      <td>-2.626163e+00</td>\n",
              "      <td>-1.542780e+00</td>\n",
              "    </tr>\n",
              "    <tr>\n",
              "      <th>25%</th>\n",
              "      <td>-2.065283e+00</td>\n",
              "      <td>-2.897094e-01</td>\n",
              "    </tr>\n",
              "    <tr>\n",
              "      <th>50%</th>\n",
              "      <td>-1.608128e+00</td>\n",
              "      <td>2.817519e-02</td>\n",
              "    </tr>\n",
              "    <tr>\n",
              "      <th>75%</th>\n",
              "      <td>2.602667e+00</td>\n",
              "      <td>1.286038e-01</td>\n",
              "    </tr>\n",
              "    <tr>\n",
              "      <th>max</th>\n",
              "      <td>6.160015e+00</td>\n",
              "      <td>4.025863e+00</td>\n",
              "    </tr>\n",
              "  </tbody>\n",
              "</table>\n",
              "</div>"
            ]
          },
          "metadata": {},
          "execution_count": 214
        }
      ]
    },
    {
      "cell_type": "code",
      "metadata": {
        "id": "pnvWLb8IWWXr"
      },
      "source": [
        ""
      ],
      "execution_count": null,
      "outputs": []
    },
    {
      "cell_type": "code",
      "metadata": {
        "colab": {
          "base_uri": "https://localhost:8080/"
        },
        "id": "J8uORd4IIQnF",
        "outputId": "82b040e0-a688-4a81-a56d-c57cf4b0826e"
      },
      "source": [
        "df.info()"
      ],
      "execution_count": null,
      "outputs": [
        {
          "output_type": "stream",
          "name": "stdout",
          "text": [
            "<class 'pandas.core.frame.DataFrame'>\n",
            "Int64Index: 691 entries, 0 to 698\n",
            "Data columns (total 10 columns):\n",
            "ClumpThickness                 691 non-null int64\n",
            "Cell Size                      691 non-null int64\n",
            "Cell Shape                     691 non-null int64\n",
            "Marginal Adhesion              691 non-null int64\n",
            "Single Epithelial Cell Size    691 non-null int64\n",
            "Bare Nuclei                    691 non-null int64\n",
            "Normal Nucleoli                691 non-null int64\n",
            "Bland Chromatin                691 non-null int64\n",
            "Mitoses                        691 non-null int64\n",
            "Class                          691 non-null int64\n",
            "dtypes: int64(10)\n",
            "memory usage: 79.4 KB\n"
          ]
        }
      ]
    },
    {
      "cell_type": "markdown",
      "metadata": {
        "id": "lmMHMAtkWCzm"
      },
      "source": [
        "# Q6 Create a covariance matrix for identifying Principal components"
      ]
    },
    {
      "cell_type": "code",
      "metadata": {
        "id": "X3pUdlSdSM5D"
      },
      "source": [
        "# PCA\n",
        "# Step 1 - Create covariance matrix\n"
      ],
      "execution_count": null,
      "outputs": []
    },
    {
      "cell_type": "code",
      "metadata": {
        "id": "ppL2hWreSM5G",
        "colab": {
          "base_uri": "https://localhost:8080/"
        },
        "outputId": "eda6e885-2864-49b5-aa7a-4000f75d46df"
      },
      "source": [
        "from sklearn.preprocessing import StandardScaler\n",
        "df_scaled = StandardScaler().fit_transform(df)\n",
        "df_scaled[:5]"
      ],
      "execution_count": null,
      "outputs": [
        {
          "output_type": "execute_result",
          "data": {
            "text/plain": [
              "array([[ 0.2036669 , -0.70094014, -0.74420166, -0.78089213, -0.60615341,\n",
              "        -0.68612673, -0.13130376, -0.71752218, -0.38435366, -0.72483537],\n",
              "       [ 0.2036669 ,  0.28618548,  0.27008502,  1.53166414,  1.93619565,\n",
              "         1.80483774, -0.13130376,  0.04761335, -0.38435366, -0.72483537],\n",
              "       [-0.50711   , -0.70094014, -0.74420166, -0.78089213, -0.60615341,\n",
              "        -0.4093529 , -0.13130376, -0.71752218, -0.38435366, -0.72483537],\n",
              "       [ 0.55905535,  1.60235298,  1.62246726, -0.78089213,  0.02943385,\n",
              "         0.14419476, -0.13130376,  1.57788443, -0.38435366, -0.72483537],\n",
              "       [-0.15172155, -0.70094014, -0.74420166,  0.76081205, -0.60615341,\n",
              "        -0.68612673, -0.13130376, -0.71752218, -0.38435366, -0.72483537]])"
            ]
          },
          "metadata": {},
          "execution_count": 221
        }
      ]
    },
    {
      "cell_type": "code",
      "metadata": {
        "colab": {
          "base_uri": "https://localhost:8080/"
        },
        "id": "hsBj24HC-RsQ",
        "outputId": "2dde113a-29f1-4d71-9fdc-75a6847ab615"
      },
      "source": [
        "features = df_scaled.T\n",
        "cov_matrix = np.cov(features)\n",
        "cov_matrix[:5]"
      ],
      "execution_count": null,
      "outputs": [
        {
          "output_type": "execute_result",
          "data": {
            "text/plain": [
              "array([[1.00144928, 0.64427196, 0.65469961, 0.55352494, 0.56033436,\n",
              "        0.59169728, 0.57630393, 0.57235583, 0.37651044, 0.7179775 ],\n",
              "       [0.64427196, 1.00144928, 0.90673173, 0.72226675, 0.78748896,\n",
              "        0.68578334, 0.74734726, 0.72704402, 0.48780131, 0.81890491],\n",
              "       [0.65469961, 0.90673173, 1.00144928, 0.70450554, 0.75878853,\n",
              "        0.7054026 , 0.73030939, 0.71932385, 0.46667977, 0.8188784 ],\n",
              "       [0.55352494, 0.72226675, 0.70450554, 1.00144928, 0.66775558,\n",
              "        0.69716184, 0.68221311, 0.65353965, 0.38302987, 0.74034695],\n",
              "       [0.56033436, 0.78748896, 0.75878853, 0.66775558, 1.00144928,\n",
              "        0.64612126, 0.67160284, 0.70127982, 0.47087409, 0.74830439]])"
            ]
          },
          "metadata": {},
          "execution_count": 222
        }
      ]
    },
    {
      "cell_type": "code",
      "metadata": {
        "colab": {
          "base_uri": "https://localhost:8080/"
        },
        "id": "U07QEav__OB8",
        "outputId": "4ff4178c-58b8-4659-9fdd-50dc16b6a0ea"
      },
      "source": [
        "values, vectors = np.linalg.eig(cov_matrix)\n",
        "values[:5]"
      ],
      "execution_count": null,
      "outputs": [
        {
          "output_type": "execute_result",
          "data": {
            "text/plain": [
              "array([6.92764542, 0.74013263, 0.5042125 , 0.09029976, 0.12526026])"
            ]
          },
          "metadata": {},
          "execution_count": 223
        }
      ]
    },
    {
      "cell_type": "code",
      "metadata": {
        "colab": {
          "base_uri": "https://localhost:8080/"
        },
        "id": "1CVYLmoHJSaS",
        "outputId": "edeab122-c33f-4b2d-d940-93482bf44eb5"
      },
      "source": [
        "print(vectors)"
      ],
      "execution_count": null,
      "outputs": [
        {
          "output_type": "stream",
          "name": "stdout",
          "text": [
            "[[-0.28580494  0.06891619 -0.89019595  0.02470554 -0.16249791 -0.13415544\n",
            "  -0.18587503 -0.11573112 -0.1676236  -0.00792202]\n",
            " [-0.34770106 -0.00710221  0.09830921  0.74118379 -0.01046748 -0.34205559\n",
            "   0.30577297 -0.05248495  0.17129583 -0.27808233]\n",
            " [-0.34505543  0.02344786  0.03661688 -0.65066713 -0.17359549 -0.3113311\n",
            "   0.4543114   0.02790767  0.21498549 -0.27426181]\n",
            " [-0.31382678  0.16161752  0.22851565 -0.04324253  0.00098766  0.36330101\n",
            "  -0.00284966 -0.40730822 -0.60716802 -0.3933872 ]\n",
            " [-0.3230009  -0.0619035   0.27215417 -0.07242321 -0.03047021 -0.36026684\n",
            "  -0.68685883  0.41079525 -0.1273411  -0.15830723]\n",
            " [-0.31710935  0.16420227 -0.03599689  0.10584001 -0.35696418  0.63121223\n",
            "   0.0765641   0.53687162  0.20003284  0.00476951]\n",
            " [-0.32090647  0.17803771  0.15632239 -0.04362378 -0.08593018  0.10848232\n",
            "  -0.35366177 -0.56694113  0.55138466  0.26325946]\n",
            " [-0.31819763  0.01327378  0.17519295  0.02368735 -0.16002796 -0.1860238\n",
            "   0.2392299   0.03594002 -0.4012099   0.76656024]\n",
            " [-0.21312122 -0.94734921 -0.02882085 -0.01921315 -0.00863755  0.21048435\n",
            "  -0.00278321 -0.10066346  0.03619654  0.00892752]\n",
            " [-0.35401941  0.09160524 -0.11402937 -0.07428388  0.88426754  0.13110148\n",
            "   0.07479265  0.16535381  0.07179685  0.10271642]]\n"
          ]
        }
      ]
    },
    {
      "cell_type": "code",
      "metadata": {
        "colab": {
          "base_uri": "https://localhost:8080/",
          "height": 231
        },
        "id": "sc_QoOiM-RdM",
        "outputId": "46d1e57b-4fc9-4bd5-9543-6fc1c2dc5f09"
      },
      "source": [
        "df.boxplot(figsize=(20,3))"
      ],
      "execution_count": null,
      "outputs": [
        {
          "output_type": "execute_result",
          "data": {
            "text/plain": [
              "<matplotlib.axes._subplots.AxesSubplot at 0x7f1d963f6a10>"
            ]
          },
          "metadata": {},
          "execution_count": 224
        },
        {
          "output_type": "display_data",
          "data": {
            "image/png": "[encoded data removed]",
            "text/plain": [
              "<Figure size 1440x216 with 1 Axes>"
            ]
          },
          "metadata": {
            "needs_background": "light"
          }
        }
      ]
    },
    {
      "cell_type": "markdown",
      "metadata": {
        "id": "vbZ-YcsdWCzz"
      },
      "source": [
        "# Q7 Identify eigen values and eigen vector"
      ]
    },
    {
      "cell_type": "code",
      "metadata": {
        "id": "sH-AksvLSM5L"
      },
      "source": [
        "# Step 2- Get eigen values and eigen vector"
      ],
      "execution_count": null,
      "outputs": []
    },
    {
      "cell_type": "code",
      "metadata": {
        "id": "YaNotXfFSM5O"
      },
      "source": [
        "#refer above"
      ],
      "execution_count": null,
      "outputs": []
    },
    {
      "cell_type": "markdown",
      "metadata": {
        "id": "-2KqQg2KWCz7"
      },
      "source": [
        "# Q8 Find variance and cumulative variance by each eigen vector"
      ]
    },
    {
      "cell_type": "code",
      "metadata": {
        "id": "HVrVYdZpSM5e"
      },
      "source": [
        "#set styling preferences\n",
        "import seaborn as sb\n",
        "sb.set(font_scale=1,style=\"whitegrid\") "
      ],
      "execution_count": null,
      "outputs": []
    },
    {
      "cell_type": "code",
      "metadata": {
        "id": "-vza5BkOKBEw"
      },
      "source": [
        "covar_matrix = PCA(n_components = 20) "
      ],
      "execution_count": null,
      "outputs": []
    },
    {
      "cell_type": "code",
      "metadata": {
        "colab": {
          "base_uri": "https://localhost:8080/"
        },
        "id": "2LobGxauQmHt",
        "outputId": "84dc1614-20e6-4406-f8cf-5339b2267383"
      },
      "source": [
        "var=df.var()\n",
        "print(var)"
      ],
      "execution_count": null,
      "outputs": [
        {
          "output_type": "stream",
          "name": "stdout",
          "text": [
            "ClumpThickness                  7.929071\n",
            "Cell Size                       9.249678\n",
            "Cell Shape                      8.760926\n",
            "Marginal Adhesion               1.685337\n",
            "Single Epithelial Cell Size     2.479012\n",
            "Bare Nuclei                    13.073110\n",
            "Normal Nucleoli                 4.437979\n",
            "Bland Chromatin                 1.710615\n",
            "Mitoses                         1.536748\n",
            "Class                           0.904499\n",
            "dtype: float64\n"
          ]
        }
      ]
    },
    {
      "cell_type": "code",
      "metadata": {
        "id": "SC0OCwOkLWVS"
      },
      "source": [
        "variance = covar_matrix.fit #calculate variance ratios\n",
        "print(variance)\n",
        "\n"
      ],
      "execution_count": null,
      "outputs": []
    },
    {
      "cell_type": "code",
      "metadata": {
        "colab": {
          "base_uri": "https://localhost:8080/"
        },
        "id": "NmZSQc-CMU3X",
        "outputId": "0fc6a1a8-1e46-472e-f61c-421a3651db8a"
      },
      "source": [
        "pca = PCA(n_components=2)\n",
        "pca.fit(df)\n"
      ],
      "execution_count": null,
      "outputs": [
        {
          "output_type": "execute_result",
          "data": {
            "text/plain": [
              "PCA(copy=True, iterated_power='auto', n_components=2, random_state=None,\n",
              "  svd_solver='auto', tol=0.0, whiten=False)"
            ]
          },
          "metadata": {},
          "execution_count": 278
        }
      ]
    },
    {
      "cell_type": "code",
      "metadata": {
        "colab": {
          "base_uri": "https://localhost:8080/"
        },
        "id": "rU33q4P6Ma1E",
        "outputId": "a458646a-3262-42eb-a927-ffdcc8d224f2"
      },
      "source": [
        "PCA(n_components=2)\n",
        "print(pca.explained_variance_ratio_)\n"
      ],
      "execution_count": null,
      "outputs": [
        {
          "output_type": "stream",
          "name": "stdout",
          "text": [
            "[0.73335454 0.08546003]\n"
          ]
        }
      ]
    },
    {
      "cell_type": "code",
      "metadata": {
        "colab": {
          "base_uri": "https://localhost:8080/"
        },
        "id": "BNg7i20hMfVV",
        "outputId": "e3c36365-376d-47c5-b014-9ccb34950525"
      },
      "source": [
        "print(pca.singular_values_)"
      ],
      "execution_count": null,
      "outputs": [
        {
          "output_type": "stream",
          "name": "stdout",
          "text": [
            "[161.84822171  55.25002169]\n"
          ]
        }
      ]
    },
    {
      "cell_type": "code",
      "metadata": {
        "id": "nU4Mc8wENsWw"
      },
      "source": [
        "df_variance = pd.to_numeric(variance, errors='coerce')"
      ],
      "execution_count": null,
      "outputs": []
    },
    {
      "cell_type": "code",
      "metadata": {
        "colab": {
          "base_uri": "https://localhost:8080/",
          "height": 317
        },
        "id": "rSPokVaoMnfX",
        "outputId": "19dad0b5-4e43-4e75-ac61-1f273dc7289e"
      },
      "source": [
        "plt.ylabel('% Variance Explained')\n",
        "plt.xlabel('# of Features')\n",
        "plt.title('PCA Analysis')\n",
        "#plt.ylim(200,100)\n",
        "plt.style.context('seaborn-whitegrid')\n",
        "\n",
        "plt.plot(var)"
      ],
      "execution_count": null,
      "outputs": [
        {
          "output_type": "execute_result",
          "data": {
            "text/plain": [
              "[<matplotlib.lines.Line2D at 0x7f1d9573f810>]"
            ]
          },
          "metadata": {},
          "execution_count": 295
        },
        {
          "output_type": "display_data",
          "data": {
            "image/png": "[encoded data removed]",
            "text/plain": [
              "<Figure size 432x288 with 1 Axes>"
            ]
          },
          "metadata": {}
        }
      ]
    },
    {
      "cell_type": "code",
      "metadata": {
        "colab": {
          "base_uri": "https://localhost:8080/"
        },
        "id": "puTkgtiPSy7Y",
        "outputId": "b1449c9f-ba13-4453-ab21-ba7e656f0f97"
      },
      "source": [
        "df.info()"
      ],
      "execution_count": null,
      "outputs": [
        {
          "output_type": "stream",
          "name": "stdout",
          "text": [
            "<class 'pandas.core.frame.DataFrame'>\n",
            "Int64Index: 691 entries, 0 to 698\n",
            "Data columns (total 10 columns):\n",
            "ClumpThickness                 691 non-null int64\n",
            "Cell Size                      691 non-null int64\n",
            "Cell Shape                     691 non-null int64\n",
            "Marginal Adhesion              691 non-null int64\n",
            "Single Epithelial Cell Size    691 non-null int64\n",
            "Bare Nuclei                    691 non-null int64\n",
            "Normal Nucleoli                691 non-null int64\n",
            "Bland Chromatin                691 non-null int64\n",
            "Mitoses                        691 non-null int64\n",
            "Class                          691 non-null int64\n",
            "dtypes: int64(10)\n",
            "memory usage: 79.4 KB\n"
          ]
        }
      ]
    },
    {
      "cell_type": "code",
      "metadata": {
        "id": "pOBLMFX-SaNy"
      },
      "source": [
        "from sklearn.decomposition import PCA\n",
        "pca = PCA(n_components=2)\n"
      ],
      "execution_count": null,
      "outputs": []
    },
    {
      "cell_type": "code",
      "metadata": {
        "id": "8lTB53rdTCh9"
      },
      "source": [
        "principalComponents = pca.fit_transform(df)\n"
      ],
      "execution_count": null,
      "outputs": []
    },
    {
      "cell_type": "code",
      "metadata": {
        "id": "lKzWbDY6TGpb"
      },
      "source": [
        "principal_cancer = pd.DataFrame(data = principal_cancer_Df\n",
        "             , columns = ['principal component 1', 'principal component 2'])\n"
      ],
      "execution_count": null,
      "outputs": []
    },
    {
      "cell_type": "code",
      "metadata": {
        "colab": {
          "base_uri": "https://localhost:8080/",
          "height": 291
        },
        "id": "Bb_avLBVXr9C",
        "outputId": "d1ece5f2-0f37-4db8-84d4-cc27f9729bb0"
      },
      "source": [
        "plt.xlabel('principal component 1') # for Xlabel\n",
        "plt.ylabel('PC2') # for Ylabel\n",
        "plt.legend()\n",
        " \n",
        "# show scatter plot\n",
        "plt.show()"
      ],
      "execution_count": null,
      "outputs": [
        {
          "output_type": "display_data",
          "data": {
            "image/png": "[encoded data removed]",
            "text/plain": [
              "<Figure size 432x288 with 1 Axes>"
            ]
          },
          "metadata": {}
        }
      ]
    },
    {
      "cell_type": "code",
      "metadata": {
        "id": "twRfceQtYonD"
      },
      "source": [
        ""
      ],
      "execution_count": null,
      "outputs": []
    },
    {
      "cell_type": "markdown",
      "metadata": {
        "id": "x8YxQPNGWC0e"
      },
      "source": [
        "# Q9 Use PCA command from sklearn and find Principal Components. Transform data to components formed"
      ]
    },
    {
      "cell_type": "code",
      "metadata": {
        "id": "-06rQu3PSM5o"
      },
      "source": [
        "#refer above"
      ],
      "execution_count": null,
      "outputs": []
    },
    {
      "cell_type": "code",
      "metadata": {
        "colab": {
          "base_uri": "https://localhost:8080/"
        },
        "id": "Fq12ok93bLPp",
        "outputId": "e834d169-8e7f-4c9d-b2d9-665047e374aa"
      },
      "source": [
        "pip install plotly_express==0.4.0"
      ],
      "execution_count": null,
      "outputs": [
        {
          "output_type": "stream",
          "name": "stdout",
          "text": [
            "Requirement already satisfied: plotly_express==0.4.0 in /usr/local/lib/python2.7/dist-packages (0.4.0)\n",
            "Requirement already satisfied: patsy>=0.5 in /usr/local/lib/python2.7/dist-packages (from plotly_express==0.4.0) (0.5.1)\n",
            "Requirement already satisfied: pandas>=0.20.0 in /usr/local/lib/python2.7/dist-packages (from plotly_express==0.4.0) (0.24.2)\n",
            "Requirement already satisfied: plotly>=4.0.0 in /usr/local/lib/python2.7/dist-packages (from plotly_express==0.4.0) (4.14.3)\n",
            "Requirement already satisfied: scipy>=0.18 in /usr/local/lib/python2.7/dist-packages (from plotly_express==0.4.0) (1.2.2)\n",
            "Requirement already satisfied: numpy>=1.11 in /usr/local/lib/python2.7/dist-packages (from plotly_express==0.4.0) (1.16.4)\n",
            "Requirement already satisfied: statsmodels>=0.9.0 in /usr/local/lib/python2.7/dist-packages (from plotly_express==0.4.0) (0.10.0)\n",
            "Requirement already satisfied: six in /usr/local/lib/python2.7/dist-packages (from patsy>=0.5->plotly_express==0.4.0) (1.15.0)\n",
            "Requirement already satisfied: pytz>=2011k in /usr/local/lib/python2.7/dist-packages (from pandas>=0.20.0->plotly_express==0.4.0) (2018.9)\n",
            "Requirement already satisfied: python-dateutil>=2.5.0 in /usr/local/lib/python2.7/dist-packages (from pandas>=0.20.0->plotly_express==0.4.0) (2.5.3)\n",
            "Requirement already satisfied: retrying>=1.3.3 in /usr/local/lib/python2.7/dist-packages (from plotly>=4.0.0->plotly_express==0.4.0) (1.3.3)\n"
          ]
        }
      ]
    },
    {
      "cell_type": "code",
      "metadata": {
        "colab": {
          "base_uri": "https://localhost:8080/"
        },
        "id": "RDWN-snWcUgt",
        "outputId": "d66a5741-59e7-4332-ad2c-c800f43c2c49"
      },
      "source": [
        "pip install -U kaleido"
      ],
      "execution_count": null,
      "outputs": [
        {
          "output_type": "stream",
          "name": "stdout",
          "text": [
            "Collecting kaleido\n",
            "\u001b[?25l  Downloading https://files.pythonhosted.org/packages/ae/b3/a0f0f4faac229b0011d8c4a7ee6da7c2dca0b6fd08039c95920846f23ca4/kaleido-0.2.1-py2.py3-none-manylinux1_x86_64.whl (79.9MB)\n",
            "\u001b[K     |████████████████████████████████| 79.9MB 84kB/s \n",
            "\u001b[?25hRequirement already satisfied, skipping upgrade: pathlib; python_version < \"3.4\" in /usr/local/lib/python2.7/dist-packages (from kaleido) (1.0.1)\n",
            "Installing collected packages: kaleido\n",
            "Successfully installed kaleido-0.2.1\n"
          ]
        }
      ]
    },
    {
      "cell_type": "markdown",
      "metadata": {
        "id": "8L-IGI0QWC0t"
      },
      "source": [
        "# Q10 Find correlation between components and features"
      ]
    },
    {
      "cell_type": "code",
      "metadata": {
        "id": "eLi4UsMcSM5r"
      },
      "source": [
        ""
      ],
      "execution_count": null,
      "outputs": []
    },
    {
      "cell_type": "code",
      "metadata": {
        "id": "bXUp9TCDWC1G"
      },
      "source": [
        ""
      ],
      "execution_count": null,
      "outputs": []
    }
  ]
}