{
  "nbformat": 4,
  "nbformat_minor": 0,
  "metadata": {
    "kernelspec": {
      "display_name": "Python 3",
      "language": "python",
      "name": "python3"
    },
    "language_info": {
      "codemirror_mode": {
        "name": "ipython",
        "version": 3
      },
      "file_extension": ".py",
      "mimetype": "text/x-python",
      "name": "python",
      "nbconvert_exporter": "python",
      "pygments_lexer": "ipython3",
      "version": "3.7.4"
    },
    "colab": {
      "name": "Fivefold_Hackathon_Sep-2020.ipynb",
      "provenance": [],
      "include_colab_link": true
    }
  },
  "cells": [
    {
      "cell_type": "markdown",
      "metadata": {
        "id": "view-in-github",
        "colab_type": "text"
      },
      "source": [
        "<a href=\"https://colab.research.google.com/github/LathaKPAIML/AIML/blob/master/Fivefold_Hackathon_Sep_2020.ipynb\" target=\"_parent\"><img src=\"https://colab.research.google.com/assets/colab-badge.svg\" alt=\"Open In Colab\"/></a>"
      ]
    },
    {
      "cell_type": "code",
      "metadata": {
        "id": "PTyb8cCkhTei",
        "colab_type": "code",
        "colab": {}
      },
      "source": [
        "import numpy as np\n",
        "import pandas as pd\n",
        "import matplotlib.pyplot as plt\n",
        "import seaborn as sns\n",
        "import pylab as pl\n",
        "%matplotlib inline\n",
        "import sklearn"
      ],
      "execution_count": null,
      "outputs": []
    },
    {
      "cell_type": "code",
      "metadata": {
        "id": "AWfkJ7Lchh6_",
        "colab_type": "code",
        "colab": {
          "base_uri": "https://localhost:8080/",
          "height": 35
        },
        "outputId": "baf1971f-1afb-4493-ec94-380d8d760d3f"
      },
      "source": [
        "from google.colab import drive\n",
        "drive.mount('/content/drive')"
      ],
      "execution_count": null,
      "outputs": [
        {
          "output_type": "stream",
          "text": [
            "Mounted at /content/drive\n"
          ],
          "name": "stdout"
        }
      ]
    },
    {
      "cell_type": "code",
      "metadata": {
        "id": "V_ND4WzlhTfK",
        "colab_type": "code",
        "colab": {}
      },
      "source": [
        "info_train = pd.read_csv('info_train.csv')\n",
        "meta_train = pd.read_csv('metadata_train.csv')\n",
        "rate_train = pd.read_csv('ratings_train.csv')"
      ],
      "execution_count": null,
      "outputs": []
    },
    {
      "cell_type": "markdown",
      "metadata": {
        "id": "EhdpiOh8hTfr",
        "colab_type": "text"
      },
      "source": [
        "## Shape of dataset"
      ]
    },
    {
      "cell_type": "code",
      "metadata": {
        "id": "uWLk-2KkhTfx",
        "colab_type": "code",
        "colab": {
          "base_uri": "https://localhost:8080/",
          "height": 126
        },
        "outputId": "88b22393-a7c1-49a0-9bab-fcd995f16699"
      },
      "source": [
        "print(\"Shape of info_train\")\n",
        "print(info_train.shape)\n",
        "print(\"Shape of meta_train\")\n",
        "print(meta_train.shape)\n",
        "print(\"Shape of rate_train\")\n",
        "print(rate_train.shape)"
      ],
      "execution_count": null,
      "outputs": [
        {
          "output_type": "stream",
          "text": [
            "Shape of info_train\n",
            "(12755, 10)\n",
            "Shape of meta_train\n",
            "(12755, 6)\n",
            "Shape of rate_train\n",
            "(12755, 4)\n"
          ],
          "name": "stdout"
        }
      ]
    },
    {
      "cell_type": "markdown",
      "metadata": {
        "id": "ovDD672nhTgK",
        "colab_type": "text"
      },
      "source": [
        "Info_train has 10 features, Meta_train has 6 features, Rate_train has 4 features"
      ]
    },
    {
      "cell_type": "markdown",
      "metadata": {
        "id": "218e-z8phTgN",
        "colab_type": "text"
      },
      "source": [
        "## Data Exploration (Primitive Analysis)"
      ]
    },
    {
      "cell_type": "code",
      "metadata": {
        "id": "0YJ56i1ThTgP",
        "colab_type": "code",
        "colab": {
          "base_uri": "https://localhost:8080/",
          "height": 326
        },
        "outputId": "ce8992ad-1485-4837-ad3b-55f5f3e20362"
      },
      "source": [
        "info_train.info()"
      ],
      "execution_count": null,
      "outputs": [
        {
          "output_type": "stream",
          "text": [
            "<class 'pandas.core.frame.DataFrame'>\n",
            "RangeIndex: 12755 entries, 0 to 12754\n",
            "Data columns (total 10 columns):\n",
            " #   Column           Non-Null Count  Dtype  \n",
            "---  ------           --------------  -----  \n",
            " 0   URL              12755 non-null  object \n",
            " 1   Name             12755 non-null  object \n",
            " 2   game_id          12755 non-null  object \n",
            " 3   Subtitle         3938 non-null   object \n",
            " 4   Icon URL         12755 non-null  object \n",
            " 5   Description      12755 non-null  object \n",
            " 6   Developer        12755 non-null  object \n",
            " 7   Genres           12755 non-null  object \n",
            " 8   Primary Genre    12755 non-null  object \n",
            " 9   gamestore_price  12738 non-null  float64\n",
            "dtypes: float64(1), object(9)\n",
            "memory usage: 996.6+ KB\n"
          ],
          "name": "stdout"
        }
      ]
    },
    {
      "cell_type": "markdown",
      "metadata": {
        "id": "ttYLIuCbhTgc",
        "colab_type": "text"
      },
      "source": [
        "In info_train dataset, we have only 3938 non-null objects under \"Subtitle\", and also some values are of null type in \"gamestore_price\""
      ]
    },
    {
      "cell_type": "code",
      "metadata": {
        "id": "sMQen6WfhTgd",
        "colab_type": "code",
        "colab": {
          "base_uri": "https://localhost:8080/",
          "height": 253
        },
        "outputId": "249262a0-1e6f-4afd-eb50-61e93da7ab29"
      },
      "source": [
        "meta_train.info()"
      ],
      "execution_count": null,
      "outputs": [
        {
          "output_type": "stream",
          "text": [
            "<class 'pandas.core.frame.DataFrame'>\n",
            "RangeIndex: 12755 entries, 0 to 12754\n",
            "Data columns (total 6 columns):\n",
            " #   Column                        Non-Null Count  Dtype  \n",
            "---  ------                        --------------  -----  \n",
            " 0   In-app Purchases              5770 non-null   object \n",
            " 1   Languages                     12711 non-null  object \n",
            " 2   Size                          12755 non-null  float64\n",
            " 3   Original Release Date         12755 non-null  object \n",
            " 4   Current Version Release Date  12755 non-null  object \n",
            " 5   game_id                       12755 non-null  object \n",
            "dtypes: float64(1), object(5)\n",
            "memory usage: 598.0+ KB\n"
          ],
          "name": "stdout"
        }
      ]
    },
    {
      "cell_type": "markdown",
      "metadata": {
        "id": "ZE69i_ZAhTgs",
        "colab_type": "text"
      },
      "source": [
        "The features 'In-app purchases', \"languages\" have null values in meta_train dataset"
      ]
    },
    {
      "cell_type": "code",
      "metadata": {
        "id": "20g69IEYhTgv",
        "colab_type": "code",
        "colab": {
          "base_uri": "https://localhost:8080/",
          "height": 217
        },
        "outputId": "bd28cad3-14da-4b61-fcb8-ee3d98143e96"
      },
      "source": [
        "rate_train.info()"
      ],
      "execution_count": null,
      "outputs": [
        {
          "output_type": "stream",
          "text": [
            "<class 'pandas.core.frame.DataFrame'>\n",
            "RangeIndex: 12755 entries, 0 to 12754\n",
            "Data columns (total 4 columns):\n",
            " #   Column               Non-Null Count  Dtype  \n",
            "---  ------               --------------  -----  \n",
            " 0   Average User Rating  5687 non-null   float64\n",
            " 1   User Rating Count    5687 non-null   float64\n",
            " 2   Age Rating           12755 non-null  object \n",
            " 3   game_id              12755 non-null  object \n",
            "dtypes: float64(2), object(2)\n",
            "memory usage: 398.7+ KB\n"
          ],
          "name": "stdout"
        }
      ]
    },
    {
      "cell_type": "markdown",
      "metadata": {
        "id": "GoN5qLX_hTg4",
        "colab_type": "text"
      },
      "source": [
        "\"Average User Rating\" and \"User Rating Count\" are having many null  NA values in Ratings_train dataset."
      ]
    },
    {
      "cell_type": "markdown",
      "metadata": {
        "id": "jSnEEXFVhTg7",
        "colab_type": "text"
      },
      "source": [
        "## Datasets Merging"
      ]
    },
    {
      "cell_type": "markdown",
      "metadata": {
        "id": "XxfMT04whTg9",
        "colab_type": "text"
      },
      "source": [
        "Let us merge all the three datasets together so as to perform all our operations on a single dataset."
      ]
    },
    {
      "cell_type": "code",
      "metadata": {
        "id": "YRcPkVpFhTg_",
        "colab_type": "code",
        "colab": {}
      },
      "source": [
        "dfone = pd.merge(info_train, meta_train, on=\"game_id\")"
      ],
      "execution_count": null,
      "outputs": []
    },
    {
      "cell_type": "code",
      "metadata": {
        "id": "0QfLfRjIhThK",
        "colab_type": "code",
        "colab": {}
      },
      "source": [
        "df  = pd.merge(dfone, rate_train, on = \"game_id\")"
      ],
      "execution_count": null,
      "outputs": []
    },
    {
      "cell_type": "code",
      "metadata": {
        "id": "B6EYPVQmhThW",
        "colab_type": "code",
        "colab": {
          "base_uri": "https://localhost:8080/",
          "height": 35
        },
        "outputId": "37737243-e716-4eb7-8b15-5d5b6bd94122"
      },
      "source": [
        "df.shape"
      ],
      "execution_count": null,
      "outputs": [
        {
          "output_type": "execute_result",
          "data": {
            "text/plain": [
              "(12755, 18)"
            ]
          },
          "metadata": {
            "tags": []
          },
          "execution_count": 12
        }
      ]
    },
    {
      "cell_type": "code",
      "metadata": {
        "id": "nALwlpUKhThk",
        "colab_type": "code",
        "colab": {
          "base_uri": "https://localhost:8080/",
          "height": 126
        },
        "outputId": "d947652b-6d75-4c3d-bb66-0715ffbdb07d"
      },
      "source": [
        "df.columns"
      ],
      "execution_count": null,
      "outputs": [
        {
          "output_type": "execute_result",
          "data": {
            "text/plain": [
              "Index(['URL', 'Name', 'game_id', 'Subtitle', 'Icon URL', 'Description',\n",
              "       'Developer', 'Genres', 'Primary Genre', 'gamestore_price',\n",
              "       'In-app Purchases', 'Languages', 'Size', 'Original Release Date',\n",
              "       'Current Version Release Date', 'Average User Rating',\n",
              "       'User Rating Count', 'Age Rating'],\n",
              "      dtype='object')"
            ]
          },
          "metadata": {
            "tags": []
          },
          "execution_count": 13
        }
      ]
    },
    {
      "cell_type": "code",
      "metadata": {
        "id": "1utxp45OhThx",
        "colab_type": "code",
        "colab": {
          "base_uri": "https://localhost:8080/",
          "height": 573
        },
        "outputId": "ea45dcf6-99e8-4e2c-81ca-cf7c585813ff"
      },
      "source": [
        "df.head()"
      ],
      "execution_count": null,
      "outputs": [
        {
          "output_type": "execute_result",
          "data": {
            "text/html": [
              "<div>\n",
              "<style scoped>\n",
              "    .dataframe tbody tr th:only-of-type {\n",
              "        vertical-align: middle;\n",
              "    }\n",
              "\n",
              "    .dataframe tbody tr th {\n",
              "        vertical-align: top;\n",
              "    }\n",
              "\n",
              "    .dataframe thead th {\n",
              "        text-align: right;\n",
              "    }\n",
              "</style>\n",
              "<table border=\"1\" class=\"dataframe\">\n",
              "  <thead>\n",
              "    <tr style=\"text-align: right;\">\n",
              "      <th></th>\n",
              "      <th>URL</th>\n",
              "      <th>Name</th>\n",
              "      <th>game_id</th>\n",
              "      <th>Subtitle</th>\n",
              "      <th>Icon URL</th>\n",
              "      <th>Description</th>\n",
              "      <th>Developer</th>\n",
              "      <th>Genres</th>\n",
              "      <th>Primary Genre</th>\n",
              "      <th>gamestore_price</th>\n",
              "      <th>In-app Purchases</th>\n",
              "      <th>Languages</th>\n",
              "      <th>Size</th>\n",
              "      <th>Original Release Date</th>\n",
              "      <th>Current Version Release Date</th>\n",
              "      <th>Average User Rating</th>\n",
              "      <th>User Rating Count</th>\n",
              "      <th>Age Rating</th>\n",
              "    </tr>\n",
              "  </thead>\n",
              "  <tbody>\n",
              "    <tr>\n",
              "      <th>0</th>\n",
              "      <td>https://apps.apple.com/us/app/lottery-life-mon...</td>\n",
              "      <td>Lottery Life - Monopoly Wars</td>\n",
              "      <td>4173eb39-046d-431e-a504-b5418301a382</td>\n",
              "      <td>Monopoly for the New Millenium</td>\n",
              "      <td>https://is5-ssl.mzstatic.com/image/thumb/Purpl...</td>\n",
              "      <td>\"The spirit of Grand Theft Auto with the strat...</td>\n",
              "      <td>Opposite Lock Entertainment</td>\n",
              "      <td>Games, Simulation, Finance, Strategy</td>\n",
              "      <td>Games</td>\n",
              "      <td>0.0</td>\n",
              "      <td>0.99, 0.99, 1.99, 0.99, 7.99, 3.99, 14.99</td>\n",
              "      <td>EN</td>\n",
              "      <td>388948992.0</td>\n",
              "      <td>14/05/2018</td>\n",
              "      <td>28/12/2018</td>\n",
              "      <td>4.0</td>\n",
              "      <td>25.0</td>\n",
              "      <td>12+</td>\n",
              "    </tr>\n",
              "    <tr>\n",
              "      <th>1</th>\n",
              "      <td>https://apps.apple.com/us/app/cute-little-unic...</td>\n",
              "      <td>Cute Little Unicorn Match3</td>\n",
              "      <td>c8cb6281-34fc-4e54-b6f9-1a30657fb370</td>\n",
              "      <td>Little Unicorn Match Crash</td>\n",
              "      <td>https://is4-ssl.mzstatic.com/image/thumb/Purpl...</td>\n",
              "      <td>Cute Unicorn Match3 Blast Bomb is a matching p...</td>\n",
              "      <td>Angrisa Leungtanapolkul</td>\n",
              "      <td>Games, Entertainment, Strategy, Puzzle</td>\n",
              "      <td>Games</td>\n",
              "      <td>0.0</td>\n",
              "      <td>NaN</td>\n",
              "      <td>EN</td>\n",
              "      <td>18596864.0</td>\n",
              "      <td>9/11/2017</td>\n",
              "      <td>9/11/2017</td>\n",
              "      <td>NaN</td>\n",
              "      <td>NaN</td>\n",
              "      <td>4+</td>\n",
              "    </tr>\n",
              "    <tr>\n",
              "      <th>2</th>\n",
              "      <td>https://apps.apple.com/us/app/its-tanks/id5688...</td>\n",
              "      <td>\"It's Tanks!\"</td>\n",
              "      <td>6a30fa24-b1c7-44b0-96e8-34b9c6c7232b</td>\n",
              "      <td>NaN</td>\n",
              "      <td>https://is1-ssl.mzstatic.com/image/thumb/Purpl...</td>\n",
              "      <td>Bored of playing yet another multiplayer word ...</td>\n",
              "      <td>Bit By Bit Games Ltd</td>\n",
              "      <td>Games, Casual, Strategy</td>\n",
              "      <td>Games</td>\n",
              "      <td>0.0</td>\n",
              "      <td>1.99, 0.99, 0.99, 0.99</td>\n",
              "      <td>EN</td>\n",
              "      <td>55459840.0</td>\n",
              "      <td>26/04/2013</td>\n",
              "      <td>30/05/2013</td>\n",
              "      <td>3.5</td>\n",
              "      <td>27.0</td>\n",
              "      <td>9+</td>\n",
              "    </tr>\n",
              "    <tr>\n",
              "      <th>3</th>\n",
              "      <td>https://apps.apple.com/us/app/dunes/id1453578024</td>\n",
              "      <td>Dunes</td>\n",
              "      <td>4df50e72-3f5c-470a-8834-b56b5610e17a</td>\n",
              "      <td>Warning: *May cause addiction*</td>\n",
              "      <td>https://is5-ssl.mzstatic.com/image/thumb/Purpl...</td>\n",
              "      <td>Race across our dunes in a effort to  achieve ...</td>\n",
              "      <td>Sympo Games PTY LTD</td>\n",
              "      <td>Games, Strategy, Productivity, Family</td>\n",
              "      <td>Games</td>\n",
              "      <td>0.0</td>\n",
              "      <td>3.99</td>\n",
              "      <td>EN</td>\n",
              "      <td>187921408.0</td>\n",
              "      <td>23/02/2019</td>\n",
              "      <td>23/02/2019</td>\n",
              "      <td>NaN</td>\n",
              "      <td>NaN</td>\n",
              "      <td>4+</td>\n",
              "    </tr>\n",
              "    <tr>\n",
              "      <th>4</th>\n",
              "      <td>https://apps.apple.com/us/app/cribbage-square-...</td>\n",
              "      <td>Cribbage Square Collection</td>\n",
              "      <td>d5832610-8ec2-44f5-989d-0f5fd9e67ef5</td>\n",
              "      <td>Solitaire crib games.</td>\n",
              "      <td>https://is3-ssl.mzstatic.com/image/thumb/Purpl...</td>\n",
              "      <td>CRIBBAGE SQUARE COLLECTION is an 12-in-1 colle...</td>\n",
              "      <td>MmpApps Corp.</td>\n",
              "      <td>Games, Card, Entertainment, Strategy</td>\n",
              "      <td>Games</td>\n",
              "      <td>0.0</td>\n",
              "      <td>NaN</td>\n",
              "      <td>EN</td>\n",
              "      <td>32905216.0</td>\n",
              "      <td>12/11/2013</td>\n",
              "      <td>16/01/2019</td>\n",
              "      <td>NaN</td>\n",
              "      <td>NaN</td>\n",
              "      <td>4+</td>\n",
              "    </tr>\n",
              "  </tbody>\n",
              "</table>\n",
              "</div>"
            ],
            "text/plain": [
              "                                                 URL  ... Age Rating\n",
              "0  https://apps.apple.com/us/app/lottery-life-mon...  ...        12+\n",
              "1  https://apps.apple.com/us/app/cute-little-unic...  ...         4+\n",
              "2  https://apps.apple.com/us/app/its-tanks/id5688...  ...         9+\n",
              "3   https://apps.apple.com/us/app/dunes/id1453578024  ...         4+\n",
              "4  https://apps.apple.com/us/app/cribbage-square-...  ...         4+\n",
              "\n",
              "[5 rows x 18 columns]"
            ]
          },
          "metadata": {
            "tags": []
          },
          "execution_count": 14
        }
      ]
    },
    {
      "cell_type": "code",
      "metadata": {
        "id": "YayTOrrIhTh-",
        "colab_type": "code",
        "colab": {}
      },
      "source": [
        "ID = df[\"game_id\"]"
      ],
      "execution_count": null,
      "outputs": []
    },
    {
      "cell_type": "markdown",
      "metadata": {
        "id": "HGECTlAzhTiM",
        "colab_type": "text"
      },
      "source": [
        "##  Feature Engineering"
      ]
    },
    {
      "cell_type": "markdown",
      "metadata": {
        "id": "Ep0dEpnAhTiO",
        "colab_type": "text"
      },
      "source": [
        "As the columns \"URL\", \"Icon_URL\" have no meaning and does not imply anythong, we shall remove them."
      ]
    },
    {
      "cell_type": "code",
      "metadata": {
        "id": "Yy3ND7ubhTiR",
        "colab_type": "code",
        "colab": {}
      },
      "source": [
        "df = df.drop(['URL','Icon URL','game_id'], axis=1 )"
      ],
      "execution_count": null,
      "outputs": []
    },
    {
      "cell_type": "code",
      "metadata": {
        "id": "lrrdA23FmsTy",
        "colab_type": "code",
        "colab": {
          "base_uri": "https://localhost:8080/",
          "height": 308
        },
        "outputId": "e65712f8-1151-447f-c987-12292c70cf28"
      },
      "source": [
        "df.dtypes"
      ],
      "execution_count": null,
      "outputs": [
        {
          "output_type": "execute_result",
          "data": {
            "text/plain": [
              "Name                             object\n",
              "Subtitle                         object\n",
              "Description                      object\n",
              "Developer                        object\n",
              "Genres                           object\n",
              "Primary Genre                    object\n",
              "gamestore_price                 float64\n",
              "In-app Purchases                 object\n",
              "Languages                        object\n",
              "Size                            float64\n",
              "Original Release Date            object\n",
              "Current Version Release Date     object\n",
              "Average User Rating             float64\n",
              "User Rating Count               float64\n",
              "Age Rating                       object\n",
              "dtype: object"
            ]
          },
          "metadata": {
            "tags": []
          },
          "execution_count": 22
        }
      ]
    },
    {
      "cell_type": "code",
      "metadata": {
        "id": "Xv9sHW6ymyrR",
        "colab_type": "code",
        "colab": {
          "base_uri": "https://localhost:8080/",
          "height": 308
        },
        "outputId": "e3f8d5aa-f400-4f7d-e380-e25b124ecdd0"
      },
      "source": [
        "df.isnull().sum()"
      ],
      "execution_count": null,
      "outputs": [
        {
          "output_type": "execute_result",
          "data": {
            "text/plain": [
              "Name                               0\n",
              "Subtitle                        8817\n",
              "Description                        0\n",
              "Developer                          0\n",
              "Genres                             0\n",
              "Primary Genre                      0\n",
              "gamestore_price                   17\n",
              "In-app Purchases                6985\n",
              "Languages                         44\n",
              "Size                               0\n",
              "Original Release Date              0\n",
              "Current Version Release Date       0\n",
              "Average User Rating             7068\n",
              "User Rating Count               7068\n",
              "Age Rating                         0\n",
              "dtype: int64"
            ]
          },
          "metadata": {
            "tags": []
          },
          "execution_count": 23
        }
      ]
    },
    {
      "cell_type": "code",
      "metadata": {
        "id": "NHlwAokTnDkp",
        "colab_type": "code",
        "colab": {}
      },
      "source": [
        ""
      ],
      "execution_count": null,
      "outputs": []
    }
  ]
}